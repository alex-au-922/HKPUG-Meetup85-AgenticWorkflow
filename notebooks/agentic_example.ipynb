{
    "cells": [
        {
            "cell_type": "code",
            "execution_count": 24,
            "metadata": {},
            "outputs": [],
            "source": [
                "import sys\n",
                "\n",
                "sys.path.append(\"..\")\n",
                "\n",
                "import nest_asyncio\n",
                "\n",
                "nest_asyncio.apply()\n",
                "\n",
                "from pydantic_ai import Agent, RunContext\n",
                "from pydantic_ai.messages import ModelMessage\n",
                "from pydantic_ai.models.gemini import GeminiModel\n",
                "from pydantic_ai.providers.google_vertex import GoogleVertexProvider\n",
                "import sqlalchemy as sa\n",
                "from pydantic import BaseModel, ConfigDict\n",
                "from pathlib import Path\n",
                "from sqlmodel import SQLModel, select, text\n",
                "from sqlmodel.ext.asyncio.session import AsyncSession\n",
                "from sqlalchemy.ext.asyncio import create_async_engine, AsyncEngine\n",
                "import csv\n",
                "import uuid\n",
                "\n",
                "from src.schema import (\n",
                "    Customer,\n",
                "    Order,\n",
                "    OrderItem,\n",
                "    Product\n",
                ")"
            ]
        },
        {
            "cell_type": "code",
            "execution_count": 26,
            "metadata": {},
            "outputs": [],
            "source": [
                "BASE_ASSETS_PATH = Path(\"..\") / \"src\" / \"assets\"\n",
                "\n",
                "with (BASE_ASSETS_PATH / \"customers.csv\").open(\"r\") as f:\n",
                "    customers = [\n",
                "        Customer.model_validate(row)\n",
                "        for row in csv.DictReader(f)\n",
                "    ]\n",
                "\n",
                "with (BASE_ASSETS_PATH / \"products.csv\").open(\"r\") as f:\n",
                "    products = [\n",
                "        Product.model_validate(row)\n",
                "        for row in csv.DictReader(f)\n",
                "    ]\n",
                "\n",
                "with (BASE_ASSETS_PATH / \"orders.csv\").open(\"r\") as f:\n",
                "    orders = [\n",
                "        Order.model_validate(row)\n",
                "        for row in csv.DictReader(f)\n",
                "    ]\n",
                "\n",
                "with (BASE_ASSETS_PATH / \"order_items.csv\").open(\"r\") as f:\n",
                "    order_items = [\n",
                "        OrderItem.model_validate(row)\n",
                "        for row in csv.DictReader(f)\n",
                "    ]\n",
                "\n",
                "database_path = BASE_ASSETS_PATH / \"database.db\"\n",
                "if database_path.exists():\n",
                "    database_path.unlink()\n",
                "\n",
                "engine = create_async_engine(f\"sqlite+aiosqlite:///{str(database_path.absolute())}\", echo=False)\n",
                "async_session = AsyncSession(engine)\n",
                "async with engine.begin() as conn:\n",
                "    await conn.run_sync(SQLModel.metadata.create_all)\n",
                "\n",
                "async with (\n",
                "    AsyncSession(engine, expire_on_commit=False) as session,\n",
                "    session.begin()\n",
                "):\n",
                "    session.add_all(customers)\n",
                "    session.add_all(products)\n",
                "    session.add_all(orders)\n",
                "    session.add_all(order_items)\n",
                "    await session.commit()"
            ]
        },
        {
            "cell_type": "markdown",
            "metadata": {},
            "source": [
                "## Agentic Workflow #1 -- Single Agent & Single Tool Use"
            ]
        },
        {
            "cell_type": "code",
            "execution_count": 27,
            "metadata": {},
            "outputs": [],
            "source": [
                "model = GeminiModel(\n",
                "    \"gemini-2.0-flash\",\n",
                "    provider=GoogleVertexProvider(\n",
                "        project_id=\"hket-cloud-team-experiment\"\n",
                "    )\n",
                ")"
            ]
        },
        {
            "cell_type": "code",
            "execution_count": null,
            "metadata": {},
            "outputs": [],
            "source": [
                "class BusinessAnalysisDeps(BaseModel):\n",
                "    model_config = ConfigDict(arbitrary_types_allowed=True)\n",
                "    engine: AsyncEngine\n",
                "\n",
                "async def get_customer_info_from_name(\n",
                "    ctx: RunContext[BusinessAnalysisDeps], first_name: str, last_name: str\n",
                ") -> Customer | None:\n",
                "    \"\"\"\n",
                "    Get existing customer info from first name and last name.\n",
                "    \"\"\"\n",
                "    async with (\n",
                "        AsyncSession(ctx.deps.engine, expire_on_commit=False) as session,\n",
                "        session.begin()\n",
                "    ):\n",
                "        sql = select(Customer).where(\n",
                "            sa.func.lower(Customer.first_name) == first_name.lower(),\n",
                "            sa.func.lower(Customer.last_name) == last_name.lower(),\n",
                "        )\n",
                "        result = await session.exec(sql)\n",
                "        customer = result.one_or_none()\n",
                "        return customer\n",
                "\n",
                "async def get_product_info_from_name(\n",
                "    ctx: RunContext[BusinessAnalysisDeps], product_name: str\n",
                ") -> Product | None:\n",
                "    \"\"\"\n",
                "    Get existing product info from product name.\n",
                "    \"\"\"\n",
                "    async with (\n",
                "        AsyncSession(ctx.deps.engine, expire_on_commit=False) as session,\n",
                "        session.begin()\n",
                "    ):\n",
                "        sql = select(Product).where(\n",
                "            sa.func.lower(Product.name) == product_name.lower(),\n",
                "        )\n",
                "        result = await session.exec(sql)\n",
                "        product = result.one_or_none()\n",
                "        return product\n",
                "\n",
                "async def get_top_n_products(\n",
                "    ctx: RunContext[BusinessAnalysisDeps], n: int\n",
                ") -> list[Product]:\n",
                "    \"\"\"\n",
                "    Get the top N products by sales.\n",
                "    \"\"\"\n",
                "    async with (\n",
                "        AsyncSession(ctx.deps.engine, expire_on_commit=False) as session,\n",
                "        session.begin()\n",
                "    ):\n",
                "        sql = (\n",
                "            select(Product, sa.func.sum(OrderItem.quantity).label(\"sales\"), sa.func.sum(OrderItem.quantity * Product.unit_price).label(\"revenue\"))\n",
                "            .join(OrderItem)\n",
                "            .group_by(Product.id)\n",
                "            .order_by(sa.func.sum(OrderItem.quantity * Product.unit_price).desc())\n",
                "            .limit(n)\n",
                "        )\n",
                "        result = await session.exec(sql)\n",
                "        products = result.all()\n",
                "        return [\n",
                "            {\n",
                "                \"name\": product.name,\n",
                "                \"sales\": sales,\n",
                "                \"unit_price\": product.unit_price,\n",
                "                \"revenue\": revenue\n",
                "            }\n",
                "            for product, sales, revenue in products\n",
                "        ]"
            ]
        },
        {
            "cell_type": "code",
            "execution_count": 29,
            "metadata": {},
            "outputs": [],
            "source": [
                "business_analysis_agent_1 = Agent(\n",
                "    model=model,\n",
                "    deps_type=BusinessAnalysisDeps,\n",
                "    tools=[\n",
                "        get_customer_info_from_name,\n",
                "        get_product_info_from_name,\n",
                "        get_top_n_products,\n",
                "    ],\n",
                "    system_prompt=(\n",
                "        \"You are a business analyst. You have access to a SQLite database \"\n",
                "        \"that contains customer, order, and product information. \"\n",
                "        \"You can use the tools provided to query the database and \"\n",
                "        \"answer questions about the data.\"\n",
                "        \"Follow the instructions carefully and provide the most accurate \"\n",
                "        \"and relevant information possible. \"\n",
                "    )\n",
                ")"
            ]
        },
        {
            "cell_type": "code",
            "execution_count": 30,
            "metadata": {},
            "outputs": [
                {
                    "name": "stdout",
                    "output_type": "stream",
                    "text": [
                        "OK. I found the customer info of Queenie Sit. Here is the information: created_at: 2024-03-30T10:56:27, email: queenie.sit@gmail.com, first_name: Queenie, id: 6630e24f-b663-496c-98ed-bb8c04ce8364, last_name: Sit, login_date: 2025-04-01T12:33:41, phone: 86123498, tier: premium.\n"
                    ]
                }
            ],
            "source": [
                "result = await business_analysis_agent_1.run(\n",
                "    \"Get me the info of user Queenie Sit\",\n",
                "    deps=BusinessAnalysisDeps(engine=engine)\n",
                ")\n",
                "print(result.data)"
            ]
        },
        {
            "cell_type": "code",
            "execution_count": 31,
            "metadata": {},
            "outputs": [
                {
                    "name": "stdout",
                    "output_type": "stream",
                    "text": [
                        "OK. I found the info of SanDisk 256GB USB Drive. The category is electronics, the description is High-speed flash storage, the id is 28117627-5fba-4d54-b0d7-88c7267296e4, the product is available, the name is SanDisk 256GB USB Drive, the sku is EL-10082, the stock is 0, and the unit price is 399.\n"
                    ]
                }
            ],
            "source": [
                "result = await business_analysis_agent_1.run(\n",
                "    \"Get me the info of SanDisk 256GB USB Drive\",\n",
                "    deps=BusinessAnalysisDeps(engine=engine)\n",
                ")\n",
                "print(result.data)"
            ]
        },
        {
            "cell_type": "code",
            "execution_count": 32,
            "metadata": {},
            "outputs": [
                {
                    "name": "stdout",
                    "output_type": "stream",
                    "text": [
                        "Here are the top 20 products sold, based on total revenue:\n",
                        "\n",
                        "1.  **Dell XPS 15 Laptop:** Quantity Sold: 346, Total Revenue: $5,501,054\n",
                        "2.  **Acer Predator Gaming PC:** Quantity Sold: 276, Total Revenue: $4,967,724\n",
                        "3.  **Lenovo ThinkPad X1 Carbon:** Quantity Sold: 330, Total Revenue: $4,619,670\n",
                        "4.  **HP Spectre Laptop:** Quantity Sold: 317, Total Revenue: $4,437,683\n",
                        "5.  **Nikon Z6 II:** Quantity Sold: 266, Total Revenue: $4,255,734\n",
                        "6.  **Canon EOS R6:** Quantity Sold: 247, Total Revenue: $4,198,753\n",
                        "7.  **MSI Gaming Laptop:** Quantity Sold: 297, Total Revenue: $4,157,703\n",
                        "8.  **LG Gram 16:** Quantity Sold: 319, Total Revenue: $4,146,681\n",
                        "9.  **Fujifilm X-T4:** Quantity Sold: 279, Total Revenue: $3,905,721\n",
                        "10. **Huawei MateBook X Pro:** Quantity Sold: 338, Total Revenue: $3,379,662\n",
                        "11. **LG OLED C2 55\" TV:** Quantity Sold: 265, Total Revenue: $3,179,735\n",
                        "12. **Microsoft Surface Pro 9:** Quantity Sold: 294, Total Revenue: $2,645,706\n",
                        "13. **Samsung Galaxy S23 Ultra:** Quantity Sold: 302, Total Revenue: $2,506,298\n",
                        "14. **DJI Mavic Air 2:** Quantity Sold: 310, Total Revenue: $2,262,690\n",
                        "15. **Google Pixel 7 Pro:** Quantity Sold: 339, Total Revenue: $2,203,161\n",
                        "16. **iPhone 14 Pro (128GB):** Quantity Sold: 286, Total Revenue: $2,144,714\n",
                        "17. **TCL 65\" 4K QLED TV:** Quantity Sold: 328, Total Revenue: $2,066,072\n",
                        "18. **Oppo Find X5 Pro:** Quantity Sold: 268, Total Revenue: $1,875,732\n",
                        "19. **Garmin Fenix 7:** Quantity Sold: 311, Total Revenue: $1,865,689\n",
                        "20. **Chow Tai Fook Jade Pendant:** Quantity Sold: 301, Total Revenue: $1,805,699\n",
                        "\n"
                    ]
                }
            ],
            "source": [
                "result = await business_analysis_agent_1.run(\n",
                "    \"What are the top 20 products sold? Display the product name, total quantity sold, and total revenue amount in plain-text list format\",\n",
                "    deps=BusinessAnalysisDeps(engine=engine)\n",
                ")\n",
                "print(result.data)"
            ]
        },
        {
            "cell_type": "markdown",
            "metadata": {},
            "source": [
                "## Agentic Workflow #2 -- Single Agent & Multi-Tools Use"
            ]
        },
        {
            "cell_type": "code",
            "execution_count": 33,
            "metadata": {},
            "outputs": [],
            "source": [
                "async def get_customer_order_items_categories(\n",
                "    ctx: RunContext[BusinessAnalysisDeps], customer_id: uuid.UUID\n",
                ") -> list[dict[str, str]]:\n",
                "    \"\"\"\n",
                "    Get all ordered items categories purchased by a customer, including the quantity of each category.\n",
                "    \"\"\"\n",
                "    async with (\n",
                "        AsyncSession(ctx.deps.engine, expire_on_commit=False) as session,\n",
                "        session.begin()\n",
                "    ):\n",
                "        sql = (\n",
                "            select(Product.category, sa.func.sum(OrderItem.quantity).label(\"quantity\"))\n",
                "            .join(Order, OrderItem.order_id == Order.id)\n",
                "            .join(OrderItem, OrderItem.product_id == Product.id)\n",
                "            .where(\n",
                "                Order.customer_id == customer_id,\n",
                "            )\n",
                "            .group_by(Product.category)\n",
                "            .order_by(sa.func.sum(OrderItem.quantity).desc())\n",
                "        )\n",
                "        results = await session.exec(sql)\n",
                "        categories = results.all()\n",
                "        return [\n",
                "            {\n",
                "                \"category\": category,\n",
                "                \"quantity\": quantity,\n",
                "            }\n",
                "            for category, quantity in categories\n",
                "        ]\n",
                "\n",
                "async def get_customer_all_orders(\n",
                "    ctx: RunContext[BusinessAnalysisDeps], customer_id: uuid.UUID\n",
                ") -> list[uuid.UUID]:\n",
                "    \"\"\"\n",
                "    Get all order ids of a customer.\n",
                "    \"\"\"\n",
                "    async with (\n",
                "        AsyncSession(ctx.deps.engine, expire_on_commit=False) as session,\n",
                "        session.begin()\n",
                "    ):\n",
                "        sql = select(Order.id).where(\n",
                "            Order.customer_id == customer_id,\n",
                "        )\n",
                "        results = await session.exec(sql)\n",
                "        return results.all()\n",
                "\n",
                "async def get_orders_sales_amount(\n",
                "    ctx: RunContext[BusinessAnalysisDeps], *order_id: uuid.UUID\n",
                ") -> float:\n",
                "    \"\"\"\n",
                "    Get the sum of sales amount of all orders.\n",
                "    \"\"\"\n",
                "    async with (\n",
                "        AsyncSession(ctx.deps.engine, expire_on_commit=False) as session,\n",
                "        session.begin()\n",
                "    ):\n",
                "        sql = (\n",
                "            select(sa.func.sum(OrderItem.quantity * Product.unit_price))\n",
                "            .select_from(Order)\n",
                "            .join(OrderItem, OrderItem.order_id == Order.id)\n",
                "            .join(Product, OrderItem.product_id == Product.id)\n",
                "            .where(Order.id.in_(order_id))\n",
                "        )\n",
                "        results = await session.exec(sql)\n",
                "        return results.one_or_none() or 0.0\n",
                "\n",
                "async def get_orders_categories(\n",
                "    ctx: RunContext[BusinessAnalysisDeps], *order_id: uuid.UUID\n",
                ") -> list[dict[str, str]]:\n",
                "    \"\"\"\n",
                "    Get all ordered items categories purchased by a customer, including the total quantity of each category groupped.\n",
                "    \"\"\"\n",
                "    async with (\n",
                "        AsyncSession(ctx.deps.engine, expire_on_commit=False) as session,\n",
                "        session.begin()\n",
                "    ):\n",
                "        sql = (\n",
                "            select(Product.category, sa.func.sum(OrderItem.quantity).label(\"quantity\"))\n",
                "            .select_from(Order)\n",
                "            .join(OrderItem, OrderItem.order_id == Order.id)\n",
                "            .join(Product, OrderItem.product_id == Product.id)\n",
                "            .where(Order.id.in_(order_id))\n",
                "            .group_by(Product.category)\n",
                "            .order_by(sa.func.sum(OrderItem.quantity).desc())\n",
                "        )\n",
                "        results = await session.exec(sql)\n",
                "        categories = results.all()\n",
                "        return [\n",
                "            {\n",
                "                \"category\": category,\n",
                "                \"quantity\": quantity,\n",
                "            }\n",
                "            for category, quantity in categories\n",
                "        ]\n",
                "\n",
                "\n",
                "business_analysis_agent_2 = Agent(\n",
                "    model=model,\n",
                "    deps_type=BusinessAnalysisDeps,\n",
                "    tools=[\n",
                "        get_customer_info_from_name,\n",
                "        get_customer_all_orders,\n",
                "        get_orders_sales_amount,\n",
                "        get_orders_categories\n",
                "    ],\n",
                "    system_prompt=(\n",
                "        \"You are a business analyst. You have access to a SQLite database \"\n",
                "        \"that contains customer, order, and product information. \"\n",
                "        \"You can use the tools provided to query the database and \"\n",
                "        \"answer questions about the data.\"\n",
                "        \"Follow the instructions carefully and provide the most accurate \"\n",
                "        \"and relevant information possible. \"\n",
                "    )\n",
                ")"
            ]
        },
        {
            "cell_type": "code",
            "execution_count": 34,
            "metadata": {},
            "outputs": [
                {
                    "name": "stdout",
                    "output_type": "stream",
                    "text": [
                        "Queenie Sit's shopping category proportions are as follows:\n",
                        "- Electronics: 241\n",
                        "- Home: 151\n",
                        "- Clothing: 132\n",
                        "- Toys: 99\n"
                    ]
                }
            ],
            "source": [
                "result = await business_analysis_agent_2.run(\n",
                "    \"Get me the shopping categories proportions of user Queenie Sit, including the category name and the quantity of each category\",\n",
                "    deps=BusinessAnalysisDeps(engine=engine)\n",
                ")\n",
                "print(result.data)"
            ]
        },
        {
            "cell_type": "code",
            "execution_count": 35,
            "metadata": {},
            "outputs": [
                {
                    "data": {
                        "text/plain": [
                            "[ModelRequest(parts=[SystemPromptPart(content='You are a business analyst. You have access to a SQLite database that contains customer, order, and product information. You can use the tools provided to query the database and answer questions about the data.Follow the instructions carefully and provide the most accurate and relevant information possible. ', timestamp=datetime.datetime(2025, 4, 14, 1, 21, 7, 59839, tzinfo=datetime.timezone.utc), dynamic_ref=None, part_kind='system-prompt'), UserPromptPart(content='Get me the shopping categories proportions of user Queenie Sit, including the category name and the quantity of each category', timestamp=datetime.datetime(2025, 4, 14, 1, 21, 7, 59842, tzinfo=datetime.timezone.utc), part_kind='user-prompt')], kind='request'),\n",
                            " ModelResponse(parts=[ToolCallPart(tool_name='get_customer_info_from_name', args={'first_name': 'Queenie', 'last_name': 'Sit'}, tool_call_id='pyd_ai_002be29f7f894c48a0111f9f190395a8', part_kind='tool-call')], model_name='gemini-2.0-flash', timestamp=datetime.datetime(2025, 4, 14, 1, 21, 8, 660196, tzinfo=datetime.timezone.utc), kind='response'),\n",
                            " ModelRequest(parts=[ToolReturnPart(tool_name='get_customer_info_from_name', content=Customer(last_name='Sit', first_name='Queenie', phone='86123498', login_date=datetime.datetime(2025, 4, 1, 12, 33, 41), email='queenie.sit@gmail.com', id=UUID('6630e24f-b663-496c-98ed-bb8c04ce8364'), created_at=datetime.datetime(2024, 3, 30, 10, 56, 27), tier=<CustomerTier.PREMIUM: 'premium'>), tool_call_id='pyd_ai_002be29f7f894c48a0111f9f190395a8', timestamp=datetime.datetime(2025, 4, 14, 1, 21, 8, 665556, tzinfo=datetime.timezone.utc), part_kind='tool-return')], kind='request'),\n",
                            " ModelResponse(parts=[ToolCallPart(tool_name='get_customer_all_orders', args={'customer_id': '6630e24f-b663-496c-98ed-bb8c04ce8364'}, tool_call_id='pyd_ai_9e270f0a58524291aad58950fbfad9ba', part_kind='tool-call')], model_name='gemini-2.0-flash', timestamp=datetime.datetime(2025, 4, 14, 1, 21, 9, 511747, tzinfo=datetime.timezone.utc), kind='response'),\n",
                            " ModelRequest(parts=[ToolReturnPart(tool_name='get_customer_all_orders', content=[UUID('8faa4cfb-6b51-496b-96a7-eb5951a90523'), UUID('492e63a5-217c-4462-b8be-3577b006bb44'), UUID('c5bc203d-3987-4dd3-8f87-e65d15cb9f1d'), UUID('8ff25340-60ef-4159-859b-c00641ffbbc7'), UUID('95a29197-6957-4e89-8666-af80a55b7a1f'), UUID('accf80bd-9486-412e-b981-007a68cf0060'), UUID('e839beda-f4b9-4e80-b565-fb78411be474'), UUID('0e23288e-133b-43aa-8bc7-3654dd063e8f'), UUID('3c2d92ca-9bd2-4fdb-92b0-b309be576dda'), UUID('214c61a2-f694-464a-8363-afb5838f10b0'), UUID('1864de74-b212-4c67-acb8-782fe4be7df3'), UUID('f6e5f535-1915-41b6-ad66-56df43f41507'), UUID('a57d4bd2-add0-4e9b-991c-d565731978c5'), UUID('423ac6e5-4537-4e41-87c1-d3456212ee7a'), UUID('27fd269c-5c7c-4015-9120-1ffd3266cf9b'), UUID('b3289801-721e-4996-b7da-7b2de23dcdfc'), UUID('2f249a68-3d3c-4902-b64e-a8711e862938'), UUID('4a0f0a39-2d51-43f9-a7f3-52261be2e7b9'), UUID('35ab9af2-f3b7-4394-8379-1795a90e498a'), UUID('56d7a766-f2e0-4cde-9c75-e275bae7278d'), UUID('fd9bc62e-f024-4e9c-8241-0e8489675e9c'), UUID('4d0b4102-77ad-4f7a-a049-2262627ff194'), UUID('bedbb0cb-3613-48a6-9986-4e6ba11fa2f7'), UUID('5b37627b-df50-4075-b429-92f20230d0ba'), UUID('3e2861c5-35af-470c-9c6d-13a3d99d0442'), UUID('3bff11f3-e100-40aa-8e67-3cdecea8522b'), UUID('5d475c6d-25ef-4d03-b495-c74c515ce677'), UUID('0a94c112-79bb-47d0-86e1-114b2507dbeb'), UUID('3550d8c1-a4b6-4c6a-90f3-0ccad4d39465'), UUID('83e3e7b2-5e4a-4a4e-b915-7712de8a1131'), UUID('ebd77d45-ce7c-4f75-998d-e0ef727a4676'), UUID('45e30994-87dc-4abd-aaf3-c4dd5b18b0b0'), UUID('528ca252-cdfa-43bd-9b66-0e518203ce70'), UUID('1f68d8d7-80a5-4de0-aa3e-e403853cbe5d'), UUID('828fd456-6ceb-45f5-a750-da326e634572'), UUID('38fa0a9b-5795-4ebb-a62a-2f3cfb187b67'), UUID('9a187086-bb75-4054-86c2-456afbe3130f'), UUID('121f68c3-bafd-4147-a718-03898bbf3931'), UUID('4a21bf58-956c-4d55-9315-9601c78bddcb'), UUID('83159ab9-a3e5-46af-ac93-488dd82178cc'), UUID('654635bb-c4d0-4945-a06f-9b7dcff50500'), UUID('5b4c0f63-1802-4f7a-8267-7c26b2d5ccd5'), UUID('b06154e1-221d-476a-aacf-d2d701a77ffd'), UUID('12f8051f-54ac-4d2d-b9e0-fb0f02f5d278'), UUID('175ccddb-c8f5-4325-bde0-fae0a14872a3'), UUID('da8cacc8-ef9e-40e4-88b3-20d4af12216e'), UUID('f080762c-db11-4e17-95f0-e3b1a74e1c5f'), UUID('189c4942-0529-4b7d-bb48-d0a36956fd80'), UUID('11d06df0-cf51-405f-9072-5e45f13a03a6'), UUID('44ff3414-dc11-4e26-838b-8795579c2f56'), UUID('557df0b7-4aa6-4d53-bdfe-a55c9b0c3034'), UUID('859b8ae9-d124-4c66-8a8f-fc3df548dea5'), UUID('58380e9e-34b8-46a6-84c0-8bdbe459eb8a'), UUID('af177163-6d07-426b-a8ec-1d100c2f3b15'), UUID('83d6cd05-893a-419c-a45b-e705f0ef26eb'), UUID('4f117f80-f335-4208-a816-044a0f524703'), UUID('72299069-a574-4566-abba-e254fc86bc37'), UUID('de1e2ca6-bd27-4796-b96f-f56b14b841bb'), UUID('56a4f0ee-60fc-4b76-819c-9a5d98e97c2a'), UUID('34b89ec0-eebf-4e3a-8962-3b58054d82cb'), UUID('2628b10d-258f-4fc9-bea0-16854717f96d'), UUID('907a7955-2e29-45ce-b98e-505823a20e1a'), UUID('4394da7b-c7ac-4554-9646-ea5e80706ebe'), UUID('8d42bd2d-68a7-4663-919c-cafe95b3c96a'), UUID('77f70b85-7e29-40e4-9421-0a95bc9782e5'), UUID('42a9f9f4-6053-4f62-a116-c56a5ed76dde'), UUID('a27bdeb5-7f91-4a40-a0d7-50e7f1549282'), UUID('f523c9bc-e95d-4bcb-b04c-747344428d3a'), UUID('b295be77-598b-4bb5-ad7d-af47299e4d88'), UUID('31c09695-f775-4bdc-9b7a-5095bc1e7a48'), UUID('c544b3e9-2076-4d73-8ee3-52194e7434b3'), UUID('c69dfde6-8c72-4deb-8168-3ba6045d6f82'), UUID('10467eb7-0d21-40db-8e0c-afc7ba9a7061'), UUID('d8009a06-26aa-496f-af48-0a3ca4ef80b1')], tool_call_id='pyd_ai_9e270f0a58524291aad58950fbfad9ba', timestamp=datetime.datetime(2025, 4, 14, 1, 21, 9, 519342, tzinfo=datetime.timezone.utc), part_kind='tool-return')], kind='request'),\n",
                            " ModelResponse(parts=[ToolCallPart(tool_name='get_orders_categories', args={'order_id': ['8faa4cfb-6b51-496b-96a7-eb5951a90523', '492e63a5-217c-4462-b8be-3577b006bb44', 'c5bc203d-3987-4dd3-8f87-e65d15cb9f1d', '8ff25340-60ef-4159-859b-c00641ffbbc7', '95a29197-6957-4e89-8666-af80a55b7a1f', 'accf80bd-9486-412e-b981-007a68cf0060', 'e839beda-f4b9-4e80-b565-fb78411be474', '0e23288e-133b-43aa-8bc7-3654dd063e8f', '3c2d92ca-9bd2-4fdb-92b0-b309be576dda', '214c61a2-f694-464a-8363-afb5838f10b0', '1864de74-b212-4c67-acb8-782fe4be7df3', 'f6e5f535-1915-41b6-ad66-56df43f41507', 'a57d4bd2-add0-4e9b-991c-d565731978c5', '423ac6e5-4537-4e41-87c1-d3456212ee7a', '27fd269c-5c7c-4015-9120-1ffd3266cf9b', 'b3289801-721e-4996-b7da-7b2de23dcdfc', '2f249a68-3d3c-4902-b64e-a8711e862938', '4a0f0a39-2d51-43f9-a7f3-52261be2e7b9', '35ab9af2-f3b7-4394-8379-1795a90e498a', '56d7a766-f2e0-4cde-9c75-e275bae7278d', 'fd9bc62e-f024-4e9c-8241-0e8489675e9c', '4d0b4102-77ad-4f7a-a049-2262627ff194', 'bedbb0cb-3613-48a6-9986-4e6ba11fa2f7', '5b37627b-df50-4075-b429-92f20230d0ba', '3e2861c5-35af-470c-9c6d-13a3d99d0442', '3bff11f3-e100-40aa-8e67-3cdecea8522b', '5d475c6d-25ef-4d03-b495-c74c515ce677', '0a94c112-79bb-47d0-86e1-114b2507dbeb', '3550d8c1-a4b6-4c6a-90f3-0ccad4d39465', '83e3e7b2-5e4a-4a4e-b915-7712de8a1131', 'ebd77d45-ce7c-4f75-998d-e0ef727a4676', '45e30994-87dc-4abd-aaf3-c4dd5b18b0b0', '528ca252-cdfa-43bd-9b66-0e518203ce70', '1f68d8d7-80a5-4de0-aa3e-e403853cbe5d', '828fd456-6ceb-45f5-a750-da326e634572', '38fa0a9b-5795-4ebb-a62a-2f3cfb187b67', '9a187086-bb75-4054-86c2-456afbe3130f', '121f68c3-bafd-4147-a718-03898bbf3931', '4a21bf58-956c-4d55-9315-9601c78bddcb', '83159ab9-a3e5-46af-ac93-488dd82178cc', '654635bb-c4d0-4945-a06f-9b7dcff50500', '5b4c0f63-1802-4f7a-8267-7c26b2d5ccd5', 'b06154e1-221d-476a-aacf-d2d701a77ffd', '12f8051f-54ac-4d2d-b9e0-fb0f02f5d278', '175ccddb-c8f5-4325-bde0-fae0a14872a3', 'da8cacc8-ef9e-40e4-88b3-20d4af12216e', 'f080762c-db11-4e17-95f0-e3b1a74e1c5f', '189c4942-0529-4b7d-bb48-d0a36956fd80', '11d06df0-cf51-405f-9072-5e45f13a03a6', '44ff3414-dc11-4e26-838b-8795579c2f56', '557df0b7-4aa6-4d53-bdfe-a55c9b0c3034', '859b8ae9-d124-4c66-8a8f-fc3df548dea5', '58380e9e-34b8-46a6-84c0-8bdbe459eb8a', 'af177163-6d07-426b-a8ec-1d100c2f3b15', '83d6cd05-893a-419c-a45b-e705f0ef26eb', '4f117f80-f335-4208-a816-044a0f524703', '72299069-a574-4566-abba-e254fc86bc37', 'de1e2ca6-bd27-4796-b96f-f56b14b841bb', '56a4f0ee-60fc-4b76-819c-9a5d98e97c2a', '34b89ec0-eebf-4e3a-8962-3b58054d82cb', '2628b10d-258f-4fc9-bea0-16854717f96d', '907a7955-2e29-45ce-b98e-505823a20e1a', '4394da7b-c7ac-4554-9646-ea5e80706ebe', '8d42bd2d-68a7-4663-919c-cafe95b3c96a', '77f70b85-7e29-40e4-9421-0a95bc9782e5', '42a9f9f4-6053-4f62-a116-c56a5ed76dde', 'a27bdeb5-7f91-4a40-a0d7-50e7f1549282', 'f523c9bc-e95d-4bcb-b04c-747344428d3a', 'b295be77-598b-4bb5-ad7d-af47299e4d88', '31c09695-f775-4bdc-9b7a-5095bc1e7a48', 'c544b3e9-2076-4d73-8ee3-52194e7434b3', 'c69dfde6-8c72-4deb-8168-3ba6045d6f82', '10467eb7-0d21-40db-8e0c-afc7ba9a7061', 'd8009a06-26aa-496f-af48-0a3ca4ef80b1']}, tool_call_id='pyd_ai_de06e6b1b2d24227b51e8d81375f87c4', part_kind='tool-call')], model_name='gemini-2.0-flash', timestamp=datetime.datetime(2025, 4, 14, 1, 21, 20, 927604, tzinfo=datetime.timezone.utc), kind='response'),\n",
                            " ModelRequest(parts=[ToolReturnPart(tool_name='get_orders_categories', content=[{'category': <ProductCategory.ELECTRONICS: 'electronics'>, 'quantity': 241}, {'category': <ProductCategory.HOME: 'home'>, 'quantity': 151}, {'category': <ProductCategory.CLOTHING: 'clothing'>, 'quantity': 132}, {'category': <ProductCategory.TOYS: 'toys'>, 'quantity': 99}], tool_call_id='pyd_ai_de06e6b1b2d24227b51e8d81375f87c4', timestamp=datetime.datetime(2025, 4, 14, 1, 21, 20, 954354, tzinfo=datetime.timezone.utc), part_kind='tool-return')], kind='request'),\n",
                            " ModelResponse(parts=[TextPart(content=\"Queenie Sit's shopping category proportions are as follows:\\n- Electronics: 241\\n- Home: 151\\n- Clothing: 132\\n- Toys: 99\", part_kind='text')], model_name='gemini-2.0-flash', timestamp=datetime.datetime(2025, 4, 14, 1, 21, 21, 743285, tzinfo=datetime.timezone.utc), kind='response')]"
                        ]
                    },
                    "execution_count": 35,
                    "metadata": {},
                    "output_type": "execute_result"
                }
            ],
            "source": [
                "result.all_messages()"
            ]
        },
        {
            "cell_type": "code",
            "execution_count": 36,
            "metadata": {},
            "outputs": [
                {
                    "name": "stdout",
                    "output_type": "stream",
                    "text": [
                        "The revenue of all orders from Queenie Sit is 1124605.\n"
                    ]
                }
            ],
            "source": [
                "result = await business_analysis_agent_2.run(\n",
                "    \"Get me the revenue of orders from user Queenie Sit\",\n",
                "    deps=BusinessAnalysisDeps(engine=engine)\n",
                ")\n",
                "print(result.data)"
            ]
        },
        {
            "cell_type": "code",
            "execution_count": 37,
            "metadata": {},
            "outputs": [
                {
                    "data": {
                        "text/plain": [
                            "[ModelRequest(parts=[SystemPromptPart(content='You are a business analyst. You have access to a SQLite database that contains customer, order, and product information. You can use the tools provided to query the database and answer questions about the data.Follow the instructions carefully and provide the most accurate and relevant information possible. ', timestamp=datetime.datetime(2025, 4, 14, 1, 21, 25, 102286, tzinfo=datetime.timezone.utc), dynamic_ref=None, part_kind='system-prompt'), UserPromptPart(content='Get me the revenue of orders from user Queenie Sit', timestamp=datetime.datetime(2025, 4, 14, 1, 21, 25, 102288, tzinfo=datetime.timezone.utc), part_kind='user-prompt')], kind='request'),\n",
                            " ModelResponse(parts=[ToolCallPart(tool_name='get_customer_info_from_name', args={'first_name': 'Queenie', 'last_name': 'Sit'}, tool_call_id='pyd_ai_0dc7609e4c6942eeb0bee35b3e253688', part_kind='tool-call')], model_name='gemini-2.0-flash', timestamp=datetime.datetime(2025, 4, 14, 1, 21, 25, 765498, tzinfo=datetime.timezone.utc), kind='response'),\n",
                            " ModelRequest(parts=[ToolReturnPart(tool_name='get_customer_info_from_name', content=Customer(last_name='Sit', first_name='Queenie', phone='86123498', login_date=datetime.datetime(2025, 4, 1, 12, 33, 41), email='queenie.sit@gmail.com', id=UUID('6630e24f-b663-496c-98ed-bb8c04ce8364'), created_at=datetime.datetime(2024, 3, 30, 10, 56, 27), tier=<CustomerTier.PREMIUM: 'premium'>), tool_call_id='pyd_ai_0dc7609e4c6942eeb0bee35b3e253688', timestamp=datetime.datetime(2025, 4, 14, 1, 21, 25, 767053, tzinfo=datetime.timezone.utc), part_kind='tool-return')], kind='request'),\n",
                            " ModelResponse(parts=[ToolCallPart(tool_name='get_customer_all_orders', args={'customer_id': '6630e24f-b663-496c-98ed-bb8c04ce8364'}, tool_call_id='pyd_ai_aac2d674bf23447a97493d94cf2be7e3', part_kind='tool-call')], model_name='gemini-2.0-flash', timestamp=datetime.datetime(2025, 4, 14, 1, 21, 26, 850113, tzinfo=datetime.timezone.utc), kind='response'),\n",
                            " ModelRequest(parts=[ToolReturnPart(tool_name='get_customer_all_orders', content=[UUID('8faa4cfb-6b51-496b-96a7-eb5951a90523'), UUID('492e63a5-217c-4462-b8be-3577b006bb44'), UUID('c5bc203d-3987-4dd3-8f87-e65d15cb9f1d'), UUID('8ff25340-60ef-4159-859b-c00641ffbbc7'), UUID('95a29197-6957-4e89-8666-af80a55b7a1f'), UUID('accf80bd-9486-412e-b981-007a68cf0060'), UUID('e839beda-f4b9-4e80-b565-fb78411be474'), UUID('0e23288e-133b-43aa-8bc7-3654dd063e8f'), UUID('3c2d92ca-9bd2-4fdb-92b0-b309be576dda'), UUID('214c61a2-f694-464a-8363-afb5838f10b0'), UUID('1864de74-b212-4c67-acb8-782fe4be7df3'), UUID('f6e5f535-1915-41b6-ad66-56df43f41507'), UUID('a57d4bd2-add0-4e9b-991c-d565731978c5'), UUID('423ac6e5-4537-4e41-87c1-d3456212ee7a'), UUID('27fd269c-5c7c-4015-9120-1ffd3266cf9b'), UUID('b3289801-721e-4996-b7da-7b2de23dcdfc'), UUID('2f249a68-3d3c-4902-b64e-a8711e862938'), UUID('4a0f0a39-2d51-43f9-a7f3-52261be2e7b9'), UUID('35ab9af2-f3b7-4394-8379-1795a90e498a'), UUID('56d7a766-f2e0-4cde-9c75-e275bae7278d'), UUID('fd9bc62e-f024-4e9c-8241-0e8489675e9c'), UUID('4d0b4102-77ad-4f7a-a049-2262627ff194'), UUID('bedbb0cb-3613-48a6-9986-4e6ba11fa2f7'), UUID('5b37627b-df50-4075-b429-92f20230d0ba'), UUID('3e2861c5-35af-470c-9c6d-13a3d99d0442'), UUID('3bff11f3-e100-40aa-8e67-3cdecea8522b'), UUID('5d475c6d-25ef-4d03-b495-c74c515ce677'), UUID('0a94c112-79bb-47d0-86e1-114b2507dbeb'), UUID('3550d8c1-a4b6-4c6a-90f3-0ccad4d39465'), UUID('83e3e7b2-5e4a-4a4e-b915-7712de8a1131'), UUID('ebd77d45-ce7c-4f75-998d-e0ef727a4676'), UUID('45e30994-87dc-4abd-aaf3-c4dd5b18b0b0'), UUID('528ca252-cdfa-43bd-9b66-0e518203ce70'), UUID('1f68d8d7-80a5-4de0-aa3e-e403853cbe5d'), UUID('828fd456-6ceb-45f5-a750-da326e634572'), UUID('38fa0a9b-5795-4ebb-a62a-2f3cfb187b67'), UUID('9a187086-bb75-4054-86c2-456afbe3130f'), UUID('121f68c3-bafd-4147-a718-03898bbf3931'), UUID('4a21bf58-956c-4d55-9315-9601c78bddcb'), UUID('83159ab9-a3e5-46af-ac93-488dd82178cc'), UUID('654635bb-c4d0-4945-a06f-9b7dcff50500'), UUID('5b4c0f63-1802-4f7a-8267-7c26b2d5ccd5'), UUID('b06154e1-221d-476a-aacf-d2d701a77ffd'), UUID('12f8051f-54ac-4d2d-b9e0-fb0f02f5d278'), UUID('175ccddb-c8f5-4325-bde0-fae0a14872a3'), UUID('da8cacc8-ef9e-40e4-88b3-20d4af12216e'), UUID('f080762c-db11-4e17-95f0-e3b1a74e1c5f'), UUID('189c4942-0529-4b7d-bb48-d0a36956fd80'), UUID('11d06df0-cf51-405f-9072-5e45f13a03a6'), UUID('44ff3414-dc11-4e26-838b-8795579c2f56'), UUID('557df0b7-4aa6-4d53-bdfe-a55c9b0c3034'), UUID('859b8ae9-d124-4c66-8a8f-fc3df548dea5'), UUID('58380e9e-34b8-46a6-84c0-8bdbe459eb8a'), UUID('af177163-6d07-426b-a8ec-1d100c2f3b15'), UUID('83d6cd05-893a-419c-a45b-e705f0ef26eb'), UUID('4f117f80-f335-4208-a816-044a0f524703'), UUID('72299069-a574-4566-abba-e254fc86bc37'), UUID('de1e2ca6-bd27-4796-b96f-f56b14b841bb'), UUID('56a4f0ee-60fc-4b76-819c-9a5d98e97c2a'), UUID('34b89ec0-eebf-4e3a-8962-3b58054d82cb'), UUID('2628b10d-258f-4fc9-bea0-16854717f96d'), UUID('907a7955-2e29-45ce-b98e-505823a20e1a'), UUID('4394da7b-c7ac-4554-9646-ea5e80706ebe'), UUID('8d42bd2d-68a7-4663-919c-cafe95b3c96a'), UUID('77f70b85-7e29-40e4-9421-0a95bc9782e5'), UUID('42a9f9f4-6053-4f62-a116-c56a5ed76dde'), UUID('a27bdeb5-7f91-4a40-a0d7-50e7f1549282'), UUID('f523c9bc-e95d-4bcb-b04c-747344428d3a'), UUID('b295be77-598b-4bb5-ad7d-af47299e4d88'), UUID('31c09695-f775-4bdc-9b7a-5095bc1e7a48'), UUID('c544b3e9-2076-4d73-8ee3-52194e7434b3'), UUID('c69dfde6-8c72-4deb-8168-3ba6045d6f82'), UUID('10467eb7-0d21-40db-8e0c-afc7ba9a7061'), UUID('d8009a06-26aa-496f-af48-0a3ca4ef80b1')], tool_call_id='pyd_ai_aac2d674bf23447a97493d94cf2be7e3', timestamp=datetime.datetime(2025, 4, 14, 1, 21, 26, 852646, tzinfo=datetime.timezone.utc), part_kind='tool-return')], kind='request'),\n",
                            " ModelResponse(parts=[ToolCallPart(tool_name='get_orders_sales_amount', args={'order_id': ['8faa4cfb-6b51-496b-96a7-eb5951a90523', '492e63a5-217c-4462-b8be-3577b006bb44', 'c5bc203d-3987-4dd3-8f87-e65d15cb9f1d', '8ff25340-60ef-4159-859b-c00641ffbbc7', '95a29197-6957-4e89-8666-af80a55b7a1f', 'accf80bd-9486-412e-b981-007a68cf0060', 'e839beda-f4b9-4e80-b565-fb78411be474', '0e23288e-133b-43aa-8bc7-3654dd063e8f', '3c2d92ca-9bd2-4fdb-92b0-b309be576dda', '214c61a2-f694-464a-8363-afb5838f10b0', '1864de74-b212-4c67-acb8-782fe4be7df3', 'f6e5f535-1915-41b6-ad66-56df43f41507', 'a57d4bd2-add0-4e9b-991c-d565731978c5', '423ac6e5-4537-4e41-87c1-d3456212ee7a', '27fd269c-5c7c-4015-9120-1ffd3266cf9b', 'b3289801-721e-4996-b7da-7b2de23dcdfc', '2f249a68-3d3c-4902-b64e-a8711e862938', '4a0f0a39-2d51-43f9-a7f3-52261be2e7b9', '35ab9af2-f3b7-4394-8379-1795a90e498a', '56d7a766-f2e0-4cde-9c75-e275bae7278d', 'fd9bc62e-f024-4e9c-8241-0e8489675e9c', '4d0b4102-77ad-4f7a-a049-2262627ff194', 'bedbb0cb-3613-48a6-9986-4e6ba11fa2f7', '5b37627b-df50-4075-b429-92f20230d0ba', '3e2861c5-35af-470c-9c6d-13a3d99d0442', '3bff11f3-e100-40aa-8e67-3cdecea8522b', '5d475c6d-25ef-4d03-b495-c74c515ce677', '0a94c112-79bb-47d0-86e1-114b2507dbeb', '3550d8c1-a4b6-4c6a-90f3-0ccad4d39465', '83e3e7b2-5e4a-4a4e-b915-7712de8a1131', 'ebd77d45-ce7c-4f75-998d-e0ef727a4676', '45e30994-87dc-4abd-aaf3-c4dd5b18b0b0', '528ca252-cdfa-43bd-9b66-0e518203ce70', '1f68d8d7-80a5-4de0-aa3e-e403853cbe5d', '828fd456-6ceb-45f5-a750-da326e634572', '38fa0a9b-5795-4ebb-a62a-2f3cfb187b67', '9a187086-bb75-4054-86c2-456afbe3130f', '121f68c3-bafd-4147-a718-03898bbf3931', '4a21bf58-956c-4d55-9315-9601c78bddcb', '83159ab9-a3e5-46af-ac93-488dd82178cc', '654635bb-c4d0-4945-a06f-9b7dcff50500', '5b4c0f63-1802-4f7a-8267-7c26b2d5ccd5', 'b06154e1-221d-476a-aacf-d2d701a77ffd', '12f8051f-54ac-4d2d-b9e0-fb0f02f5d278', '175ccddb-c8f5-4325-bde0-fae0a14872a3', 'da8cacc8-ef9e-40e4-88b3-20d4af12216e', 'f080762c-db11-4e17-95f0-e3b1a74e1c5f', '189c4942-0529-4b7d-bb48-d0a36956fd80', '11d06df0-cf51-405f-9072-5e45f13a03a6', '44ff3414-dc11-4e26-838b-8795579c2f56', '557df0b7-4aa6-4d53-bdfe-a55c9b0c3034', '859b8ae9-d124-4c66-8a8f-fc3df548dea5', '58380e9e-34b8-46a6-84c0-8bdbe459eb8a', 'af177163-6d07-426b-a8ec-1d100c2f3b15', '83d6cd05-893a-419c-a45b-e705f0ef26eb', '4f117f80-f335-4208-a816-044a0f524703', '72299069-a574-4566-abba-e254fc86bc37', 'de1e2ca6-bd27-4796-b96f-f56b14b841bb', '56a4f0ee-60fc-4b76-819c-9a5d98e97c2a', '34b89ec0-eebf-4e3a-8962-3b58054d82cb', '2628b10d-258f-4fc9-bea0-16854717f96d', '907a7955-2e29-45ce-b98e-505823a20e1a', '4394da7b-c7ac-4554-9646-ea5e80706ebe', '8d42bd2d-68a7-4663-919c-cafe95b3c96a', '77f70b85-7e29-40e4-9421-0a95bc9782e5', '42a9f9f4-6053-4f62-a116-c56a5ed76dde', 'a27bdeb5-7f91-4a40-a0d7-50e7f1549282', 'f523c9bc-e95d-4bcb-b04c-747344428d3a', 'b295be77-598b-4bb5-ad7d-af47299e4d88', '31c09695-f775-4bdc-9b7a-5095bc1e7a48', 'c544b3e9-2076-4d73-8ee3-52194e7434b3', 'c69dfde6-8c72-4deb-8168-3ba6045d6f82', '10467eb7-0d21-40db-8e0c-afc7ba9a7061', 'd8009a06-26aa-496f-af48-0a3ca4ef80b1']}, tool_call_id='pyd_ai_49c403190e5c428b9a0d0ef994b48903', part_kind='tool-call')], model_name='gemini-2.0-flash', timestamp=datetime.datetime(2025, 4, 14, 1, 21, 38, 210287, tzinfo=datetime.timezone.utc), kind='response'),\n",
                            " ModelRequest(parts=[ToolReturnPart(tool_name='get_orders_sales_amount', content=1124605.0, tool_call_id='pyd_ai_49c403190e5c428b9a0d0ef994b48903', timestamp=datetime.datetime(2025, 4, 14, 1, 21, 38, 226732, tzinfo=datetime.timezone.utc), part_kind='tool-return')], kind='request'),\n",
                            " ModelResponse(parts=[TextPart(content='The revenue of all orders from Queenie Sit is 1124605.', part_kind='text')], model_name='gemini-2.0-flash', timestamp=datetime.datetime(2025, 4, 14, 1, 21, 38, 871434, tzinfo=datetime.timezone.utc), kind='response')]"
                        ]
                    },
                    "execution_count": 37,
                    "metadata": {},
                    "output_type": "execute_result"
                }
            ],
            "source": [
                "result.all_messages()"
            ]
        },
        {
            "cell_type": "markdown",
            "metadata": {},
            "source": [
                "## Agentic Workflow #3 -- Multi-Agents (Graph Workflow)"
            ]
        },
        {
            "cell_type": "code",
            "execution_count": 38,
            "metadata": {},
            "outputs": [],
            "source": [
                "from pydantic_ai import ModelRetry\n",
                "\n",
                "class BusinessAnalysisDeps(BaseModel):\n",
                "    model_config = ConfigDict(arbitrary_types_allowed=True)\n",
                "    engine: sa.Engine\n",
                "    all_tables: list[str]\n",
                "\n",
                "async def get_all_tables_schemas(\n",
                "    ctx: RunContext[BusinessAnalysisDeps]\n",
                ") -> list[str]:\n",
                "    \"\"\"\n",
                "    Get all tables schema from the database\n",
                "    \"\"\"\n",
                "    \n",
                "    async with (\n",
                "        AsyncSession(ctx.deps.engine, expire_on_commit=False) as session,\n",
                "        session.begin()\n",
                "    ):\n",
                "        sql = text(\n",
                "            \"\"\"\n",
                "            SELECT sql\n",
                "            FROM sqlite_schema\n",
                "            WHERE type='table'\n",
                "                AND tbl_name IN ({})\n",
                "            \"\"\".format(\n",
                "                \",\".join(\n",
                "                    [f\":table_{i}\" for i in range(len(ctx.deps.all_tables))]\n",
                "                )\n",
                "            )\n",
                "        ).bindparams(\n",
                "            **{\n",
                "                f\"table_{i}\": table\n",
                "                for i, table in enumerate(ctx.deps.all_tables)\n",
                "            }\n",
                "        )\n",
                "\n",
                "        results = await session.exec(sql)\n",
                "        return [\n",
                "            result[0]\n",
                "            for result in results.all()\n",
                "        ]\n",
                "\n",
                "async def execute_readonly_sql_command(\n",
                "    ctx: RunContext[BusinessAnalysisDeps], query: str, columns: list[str] = None\n",
                ") -> dict[str, list[str | bytes | int | float]]:\n",
                "    \"\"\"\n",
                "    Execute any readonly sql command from the database\n",
                "    \"\"\"\n",
                "    if not query.upper().strip().startswith(\"SELECT\"):\n",
                "        raise ModelRetry('Please create a SELECT query')\n",
                "    \n",
                "    async with (\n",
                "        AsyncSession(ctx.deps.engine, expire_on_commit=False) as session,\n",
                "        session.begin()\n",
                "    ):\n",
                "        sql = text(query)\n",
                "        results = await session.exec(sql)\n",
                "        column_names = results.keys()\n",
                "        rows = results.all()\n",
                "        \n",
                "        table: dict[str, list[str]] = {}\n",
                "        for column in column_names:\n",
                "            table[column] = []\n",
                "            \n",
                "        for row in rows:\n",
                "            for column_name, row_val in zip(column_names, row):\n",
                "                table[column_name].append(row_val)\n",
                "        return table\n",
                "        "
            ]
        },
        {
            "cell_type": "code",
            "execution_count": 39,
            "metadata": {},
            "outputs": [],
            "source": [
                "from dataclasses import dataclass\n",
                "from typing import Optional\n",
                "from pydantic import Field\n",
                "from pydantic_ai.format_as_xml import format_as_xml\n",
                "from pydantic_graph import BaseNode, End, Graph, GraphRunContext\n",
                "\n",
                "class SQLQueryGenState(BaseModel):\n",
                "    user_query: str\n",
                "    sql_schemas: list[str]\n",
                "    generator_agent_messages: list[ModelMessage] = Field(default_factory=list)\n",
                "\n",
                "class GeneratedSQL(BaseModel):\n",
                "    query: str\n",
                "\n",
                "sql_generator_agent = Agent(\n",
                "    model=model,\n",
                "    result_type=GeneratedSQL,\n",
                "    system_prompt=(\n",
                "        \"Generate an SQL SELECT statement based on the user's request, optional feedback \"\n",
                "        \"from the feedback agent, and the database schemas.\"\n",
                "    )\n",
                ")\n",
                "\n",
                "@dataclass\n",
                "class SQLQueryGenNode(BaseNode[SQLQueryGenState]):\n",
                "    sql_feedback: Optional[str] = None\n",
                "    \n",
                "    async def run(self, ctx: GraphRunContext[SQLQueryGenState]) -> \"SQLQueryFeedBackNode\":\n",
                "        if self.sql_feedback:\n",
                "            prompt = (\n",
                "                \"Rewrite the sql based on the user's request and the feedback provided:\\n\"\n",
                "                f'Request: {ctx.state.user_query}\\n'\n",
                "                f'Schema: {format_as_xml(ctx.state.sql_schemas)}\\n'\n",
                "                f'Feedback: {self.sql_feedback}'\n",
                "            )\n",
                "        else:\n",
                "            prompt = (\n",
                "                \"Generate an SQL SELECT statement based on the user's request:\\n\"\n",
                "                f'Request: {ctx.state.user_query}\\n'\n",
                "                f'Schema: {format_as_xml(ctx.state.sql_schemas)}\\n'\n",
                "            )\n",
                "\n",
                "        result = await sql_generator_agent.run(\n",
                "            prompt,\n",
                "            message_history=ctx.state.generator_agent_messages,\n",
                "        )\n",
                "        ctx.state.generator_agent_messages += result.all_messages()\n",
                "        return SQLQueryFeedBackNode(result.data)\n",
                "\n",
                "class SQLRequiresWrite(BaseModel):\n",
                "    feedback: str\n",
                "\n",
                "\n",
                "class SQLOk(BaseModel):\n",
                "    pass\n",
                "\n",
                "sql_feedback_agent = Agent(\n",
                "    model=model,\n",
                "    result_type=SQLRequiresWrite | SQLOk,\n",
                "    system_prompt=(\n",
                "        \"Review the generated sql and provide the feedback for amendment. \"\n",
                "        \"The sql must reference the user's request and table schema \"\n",
                "        \"to ensure the sql can be executed correctly and achieve the result \"\n",
                "        \"the user requested.\"\n",
                "    ),\n",
                ")\n",
                "\n",
                "@dataclass\n",
                "class SQLQueryFeedBackNode(BaseNode[SQLQueryGenState, None, GeneratedSQL]):\n",
                "    sql: GeneratedSQL\n",
                "\n",
                "    async def run(\n",
                "        self,\n",
                "        ctx: GraphRunContext[SQLQueryGenState],\n",
                "    ) -> SQLQueryGenNode | End[GeneratedSQL]:\n",
                "        prompt = format_as_xml({'user_request': ctx.state.user_query, 'generated_sql': self.sql})\n",
                "        result = await sql_feedback_agent.run(prompt)\n",
                "        if isinstance(result.data, SQLRequiresWrite):\n",
                "            return SQLQueryGenNode(sql_feedback=result.data.feedback)\n",
                "        else:\n",
                "            return End(self.sql)\n",
                "\n",
                "async def generate_sql_query(ctx: RunContext[BusinessAnalysisDeps], sql_schemas: list[str]) -> str:\n",
                "    state = SQLQueryGenState(\n",
                "        user_query=ctx.prompt,\n",
                "        sql_schemas=sql_schemas,\n",
                "    )\n",
                "    sql_query_gen_graph = Graph(nodes=(SQLQueryGenNode, SQLQueryFeedBackNode))\n",
                "    result = await sql_query_gen_graph.run(SQLQueryGenNode(), state=state)\n",
                "    return result.output"
            ]
        },
        {
            "cell_type": "code",
            "execution_count": null,
            "metadata": {},
            "outputs": [],
            "source": [
                "class BusinessAnalysisDeps(BaseModel):\n",
                "    model_config = ConfigDict(arbitrary_types_allowed=True)\n",
                "    engine: AsyncEngine\n",
                "    all_tables: list[str]\n",
                "\n",
                "business_analysis_agent_3 = Agent(\n",
                "    model=model,\n",
                "    deps_type=BusinessAnalysisDeps,\n",
                "    tools=[\n",
                "        get_all_tables_schemas,\n",
                "        generate_sql_query,\n",
                "        execute_readonly_sql_command,\n",
                "    ],\n",
                "    system_prompt=(\n",
                "        \"You are a business analyst. You have access to a SQLite database \"\n",
                "        \"that contains customer, order, and product information. \"\n",
                "        \"Answer the questions as much as possible by guessing the context, \"\n",
                "        \"or explore some tools you have on hand. Everytime you are answering a question, \"\n",
                "        \"follow the observation-think-action pattern where you have to observe \"\n",
                "        \"the existing situation, then think of the environment, and finally do some action on it. \"\n",
                "        \"Review your action (next observation) and rethink what's the best action you can do \"\n",
                "        \"until you can get the answer.\"\n",
                "    )\n",
                ")"
            ]
        },
        {
            "cell_type": "code",
            "execution_count": 41,
            "metadata": {},
            "outputs": [
                {
                    "name": "stdout",
                    "output_type": "stream",
                    "text": [
                        "Observation: I successfully retrieved the top 10 products sold in April 2025, including the product name, quantity sold, and revenue amount, sorted by revenue amount in descending order.\n",
                        "\n",
                        "Final Answer:\n",
                        "\n",
                        "\n",
                        "```\n",
                        "The top 10 products sold in April 2025 are:\n",
                        "Product Name: Canon EOS R6, Quantity Sold: 20, Revenue Amount: 339980\n",
                        "Product Name: Dell XPS 15 Laptop, Quantity Sold: 15, Revenue Amount: 238485\n",
                        "Product Name: Huawei MateBook X Pro, Quantity Sold: 16, Revenue Amount: 159984\n",
                        "Product Name: LG Gram 16, Quantity Sold: 12, Revenue Amount: 155988\n",
                        "Product Name: Nikon Z6 II, Quantity Sold: 9, Revenue Amount: 143991\n",
                        "Product Name: Samsung Galaxy S23 Ultra, Quantity Sold: 17, Revenue Amount: 141083\n",
                        "Product Name: MSI Gaming Laptop, Quantity Sold: 9, Revenue Amount: 125991\n",
                        "Product Name: Fujifilm X-T4, Quantity Sold: 9, Revenue Amount: 125991\n",
                        "Product Name: Lenovo ThinkPad X1 Carbon, Quantity Sold: 9, Revenue Amount: 125991\n",
                        "Product Name: HP Spectre Laptop, Quantity Sold: 9, Revenue Amount: 125991\n",
                        "```\n"
                    ]
                }
            ],
            "source": [
                "result = await business_analysis_agent_3.run(\n",
                "    (\n",
                "        \"Get me the top 10 products sold in 2025 April, \"\n",
                "        \"including the product name, quantity sold, and revenue amount, \"\n",
                "        \"sorted by the revenue amount in descending order\"\n",
                "    ),\n",
                "    deps=BusinessAnalysisDeps(\n",
                "        engine=engine,\n",
                "        all_tables=[Customer.__tablename__, Order.__tablename__, OrderItem.__tablename__, Product.__tablename__]\n",
                "    )\n",
                ")\n",
                "print(result.data)"
            ]
        },
        {
            "cell_type": "code",
            "execution_count": 42,
            "metadata": {},
            "outputs": [
                {
                    "data": {
                        "text/plain": [
                            "[ModelRequest(parts=[SystemPromptPart(content=\"You are a business analyst. You have access to a SQLite database that contains customer, order, and product information. Answer the questions as much as possible by guessing the context, or explore some tools you have on hand. Everytime you are answering a question, follow the observation-think-action pattern where you have to observe the existing situation, then think of the environment, and finally do some action on it. Review your action (next observation) and rethink what's the best action you can do until you can get the answer.\", timestamp=datetime.datetime(2025, 4, 14, 1, 21, 43, 672771, tzinfo=datetime.timezone.utc), dynamic_ref=None, part_kind='system-prompt'), UserPromptPart(content='Get me the top 10 products sold in 2025 April, including the product name, quantity sold, and revenue amount, sorted by the revenue amount in descending order', timestamp=datetime.datetime(2025, 4, 14, 1, 21, 43, 672773, tzinfo=datetime.timezone.utc), part_kind='user-prompt')], kind='request'),\n",
                            " ModelResponse(parts=[TextPart(content=\"Okay, I need to figure out how to get the product sales information from the database for April 2025. I'll start by exploring the database schema to understand the available tables and their columns.\\n\\nObservation: I don't have any information about the table names or column names.\\n\\nThought: I should use `get_all_tables_schemas()` to get the database schema and understand the table structures.\\n\\nAction:\\n\", part_kind='text'), ToolCallPart(tool_name='get_all_tables_schemas', args={}, tool_call_id='pyd_ai_d1bf13a6ceac4ea3987b9e79aa047e2c', part_kind='tool-call')], model_name='gemini-2.0-flash', timestamp=datetime.datetime(2025, 4, 14, 1, 21, 44, 763870, tzinfo=datetime.timezone.utc), kind='response'),\n",
                            " ModelRequest(parts=[ToolReturnPart(tool_name='get_all_tables_schemas', content=['CREATE TABLE customer (\\n\\tid CHAR(32) NOT NULL, \\n\\tfirst_name VARCHAR NOT NULL, \\n\\tlast_name VARCHAR NOT NULL, \\n\\temail VARCHAR NOT NULL, \\n\\tphone VARCHAR, \\n\\tcreated_at DATETIME NOT NULL, \\n\\tlogin_date DATETIME NOT NULL, \\n\\ttier VARCHAR(7) NOT NULL, \\n\\tPRIMARY KEY (id), \\n\\tUNIQUE (email)\\n)', 'CREATE TABLE product (\\n\\tid CHAR(32) NOT NULL, \\n\\tname VARCHAR NOT NULL, \\n\\tdescription VARCHAR, \\n\\tunit_price FLOAT NOT NULL, \\n\\tstock INTEGER NOT NULL, \\n\\tsku VARCHAR NOT NULL, \\n\\tis_available BOOLEAN NOT NULL, \\n\\tcreated_at DATETIME NOT NULL, \\n\\tupdated_at DATETIME NOT NULL, \\n\\tcategory VARCHAR(11) NOT NULL, \\n\\tPRIMARY KEY (id), \\n\\tUNIQUE (sku)\\n)', 'CREATE TABLE \"order\" (\\n\\tid CHAR(32) NOT NULL, \\n\\tcustomer_id CHAR(32) NOT NULL, \\n\\ttotal_amount FLOAT NOT NULL, \\n\\torder_date DATETIME NOT NULL, \\n\\tstatus VARCHAR(9) NOT NULL, \\n\\tPRIMARY KEY (id), \\n\\tFOREIGN KEY(customer_id) REFERENCES customer (id)\\n)', 'CREATE TABLE orderitem (\\n\\tid CHAR(32) NOT NULL, \\n\\torder_id CHAR(32) NOT NULL, \\n\\tproduct_id CHAR(32) NOT NULL, \\n\\tquantity INTEGER NOT NULL, \\n\\tPRIMARY KEY (id), \\n\\tFOREIGN KEY(order_id) REFERENCES \"order\" (id), \\n\\tFOREIGN KEY(product_id) REFERENCES product (id)\\n)'], tool_call_id='pyd_ai_d1bf13a6ceac4ea3987b9e79aa047e2c', timestamp=datetime.datetime(2025, 4, 14, 1, 21, 44, 765507, tzinfo=datetime.timezone.utc), part_kind='tool-return')], kind='request'),\n",
                            " ModelResponse(parts=[TextPart(content='Observation: I have the schemas for `customer`, `product`, `order`, and `orderitem` tables.\\n`order` table has `id`, `customer_id`, `total_amount`, `order_date`, and `status`.\\n`orderitem` table has `id`, `order_id`, `product_id`, and `quantity`.\\n`product` table has `id`, `name`, `description`, `unit_price`, `stock`, etc.\\n\\nThought: To get the top 10 products sold in April 2025, I need to join `orderitem`, `order`, and `product` tables. I need to filter the orders by `order_date` to only include April 2025. Then, group by `product_id` and sum the `quantity` and calculate the revenue. Finally, sort by revenue in descending order and limit to 10 results.\\n\\nAction: I will construct an SQL query to retrieve the required information.\\n', part_kind='text'), ToolCallPart(tool_name='execute_readonly_sql_command', args={'query': 'SELECT p.name, SUM(oi.quantity) AS quantity_sold, SUM(oi.quantity * p.unit_price) AS revenue_amount FROM orderitem oi JOIN \"order\" o ON oi.order_id = o.id JOIN product p ON oi.product_id = p.id WHERE o.order_date BETWEEN \\'2025-04-01\\' AND \\'2025-04-30\\' GROUP BY p.id ORDER BY revenue_amount DESC LIMIT 10;', 'columns': None}, tool_call_id='pyd_ai_8aa9ce85f6be4e07ab36404dad007837', part_kind='tool-call')], model_name='gemini-2.0-flash', timestamp=datetime.datetime(2025, 4, 14, 1, 21, 46, 972582, tzinfo=datetime.timezone.utc), kind='response'),\n",
                            " ModelRequest(parts=[RetryPromptPart(content=[{'type': 'list_type', 'loc': ('columns',), 'msg': 'Input should be a valid list', 'input': None}], tool_name='execute_readonly_sql_command', tool_call_id='pyd_ai_8aa9ce85f6be4e07ab36404dad007837', timestamp=datetime.datetime(2025, 4, 14, 1, 21, 46, 972992, tzinfo=datetime.timezone.utc), part_kind='retry-prompt')], kind='request'),\n",
                            " ModelResponse(parts=[TextPart(content='Observation: The previous query failed because the `columns` argument was set to `None`, but it requires a list of strings.\\n\\nThought: I need to specify the columns I expect in the result.\\n\\nAction: I will execute the same query again, but this time I will specify the column names in the `columns` argument.\\n', part_kind='text'), ToolCallPart(tool_name='execute_readonly_sql_command', args={'columns': ['product_name', 'quantity_sold', 'revenue_amount'], 'query': 'SELECT p.name, SUM(oi.quantity) AS quantity_sold, SUM(oi.quantity * p.unit_price) AS revenue_amount FROM orderitem oi JOIN \"order\" o ON oi.order_id = o.id JOIN product p ON oi.product_id = p.id WHERE o.order_date BETWEEN \\'2025-04-01\\' AND \\'2025-04-30\\' GROUP BY p.id ORDER BY revenue_amount DESC LIMIT 10;'}, tool_call_id='pyd_ai_f091dcf64f00413991ae2500ffbf4290', part_kind='tool-call')], model_name='gemini-2.0-flash', timestamp=datetime.datetime(2025, 4, 14, 1, 21, 48, 496114, tzinfo=datetime.timezone.utc), kind='response'),\n",
                            " ModelRequest(parts=[ToolReturnPart(tool_name='execute_readonly_sql_command', content={'name': ['Canon EOS R6', 'Dell XPS 15 Laptop', 'Huawei MateBook X Pro', 'LG Gram 16', 'Nikon Z6 II', 'Samsung Galaxy S23 Ultra', 'MSI Gaming Laptop', 'Fujifilm X-T4', 'Lenovo ThinkPad X1 Carbon', 'HP Spectre Laptop'], 'quantity_sold': [20, 15, 16, 12, 9, 17, 9, 9, 9, 9], 'revenue_amount': [339980.0, 238485.0, 159984.0, 155988.0, 143991.0, 141083.0, 125991.0, 125991.0, 125991.0, 125991.0]}, tool_call_id='pyd_ai_f091dcf64f00413991ae2500ffbf4290', timestamp=datetime.datetime(2025, 4, 14, 1, 21, 48, 543084, tzinfo=datetime.timezone.utc), part_kind='tool-return')], kind='request'),\n",
                            " ModelResponse(parts=[TextPart(content='Observation: I successfully retrieved the top 10 products sold in April 2025, including the product name, quantity sold, and revenue amount, sorted by revenue amount in descending order.\\n\\nFinal Answer:\\n', part_kind='text'), TextPart(content='```\\nThe top 10 products sold in April 2025 are:\\nProduct Name: Canon EOS R6, Quantity Sold: 20, Revenue Amount: 339980\\nProduct Name: Dell XPS 15 Laptop, Quantity Sold: 15, Revenue Amount: 238485\\nProduct Name: Huawei MateBook X Pro, Quantity Sold: 16, Revenue Amount: 159984\\nProduct Name: LG Gram 16, Quantity Sold: 12, Revenue Amount: 155988\\nProduct Name: Nikon Z6 II, Quantity Sold: 9, Revenue Amount: 143991\\nProduct Name: Samsung Galaxy S23 Ultra, Quantity Sold: 17, Revenue Amount: 141083\\nProduct Name: MSI Gaming Laptop, Quantity Sold: 9, Revenue Amount: 125991\\nProduct Name: Fujifilm X-T4, Quantity Sold: 9, Revenue Amount: 125991\\nProduct Name: Lenovo ThinkPad X1 Carbon, Quantity Sold: 9, Revenue Amount: 125991\\nProduct Name: HP Spectre Laptop, Quantity Sold: 9, Revenue Amount: 125991\\n```', part_kind='text')], model_name='gemini-2.0-flash', timestamp=datetime.datetime(2025, 4, 14, 1, 21, 50, 443787, tzinfo=datetime.timezone.utc), kind='response')]"
                        ]
                    },
                    "execution_count": 42,
                    "metadata": {},
                    "output_type": "execute_result"
                }
            ],
            "source": [
                "result.all_messages()"
            ]
        },
        {
            "cell_type": "code",
            "execution_count": 43,
            "metadata": {},
            "outputs": [
                {
                    "name": "stdout",
                    "output_type": "stream",
                    "text": [
                        "Product: Canon EOS R6, Quantity: 20, Revenue: 339980.0\n",
                        "Product: Dell XPS 15 Laptop, Quantity: 15, Revenue: 238485.0\n",
                        "Product: Huawei MateBook X Pro, Quantity: 16, Revenue: 159984.0\n",
                        "Product: LG Gram 16, Quantity: 12, Revenue: 155988.0\n",
                        "Product: Nikon Z6 II, Quantity: 9, Revenue: 143991.0\n",
                        "Product: Samsung Galaxy S23 Ultra, Quantity: 17, Revenue: 141083.0\n",
                        "Product: MSI Gaming Laptop, Quantity: 9, Revenue: 125991.0\n",
                        "Product: Lenovo ThinkPad X1 Carbon, Quantity: 9, Revenue: 125991.0\n",
                        "Product: HP Spectre Laptop, Quantity: 9, Revenue: 125991.0\n",
                        "Product: Fujifilm X-T4, Quantity: 9, Revenue: 125991.0\n"
                    ]
                }
            ],
            "source": [
                "async with (\n",
                "    AsyncSession(engine, expire_on_commit=False) as session,\n",
                "    session.begin()\n",
                "):\n",
                "    sql = text(\n",
                "        \"\"\"\n",
                "        SELECT\n",
                "            p.name,\n",
                "            SUM(oi.quantity) AS quantity,\n",
                "            SUM(oi.quantity * p.unit_price) AS revenue\n",
                "        FROM\n",
                "            orderitem oi\n",
                "        INNER JOIN product p\n",
                "            ON oi.product_id = p.id\n",
                "        INNER JOIN \"order\" o\n",
                "            ON oi.order_id = o.id\n",
                "        WHERE o.order_date BETWEEN '2025-04-01' AND '2025-04-30'\n",
                "        GROUP BY p.name\n",
                "        ORDER BY revenue DESC\n",
                "        LIMIT 10\n",
                "        \"\"\"\n",
                "    )\n",
                "    result = await session.exec(sql)\n",
                "    products = result.all()\n",
                "    for product, quantity, revenue in products:\n",
                "        print(f\"Product: {product}, Quantity: {quantity}, Revenue: {revenue}\")"
            ]
        },
        {
            "cell_type": "markdown",
            "metadata": {},
            "source": [
                "## Agentic Workflow #4 (Extra) -- Not Only SQL!"
            ]
        },
        {
            "cell_type": "code",
            "execution_count": 48,
            "metadata": {},
            "outputs": [],
            "source": [
                "from typing import Literal\n",
                "import IPython.display\n",
                "import matplotlib.pyplot as plt\n",
                "import pandas as pd\n",
                "\n",
                "def create_bar_chart(\n",
                "    xy_columns: tuple[str, str],\n",
                "    data_records: list[tuple[str | int | float, str | int | float]],\n",
                "    title: str,\n",
                "    x_label: str,\n",
                "    y_label: str,\n",
                "    filename: str,\n",
                "    chart_type: Literal[\"bar\", \"line\", \"scatter\", \"pie\"] = \"bar\",\n",
                ") -> None:\n",
                "    \"\"\"\n",
                "    Create a diagram from the data and save it to a file, return the filename.\n",
                "    \"\"\"\n",
                "    df = pd.DataFrame(data_records, columns=xy_columns)\n",
                "    df.plot(\n",
                "        kind=chart_type,\n",
                "        title=title,\n",
                "        x=xy_columns[0],\n",
                "        y=xy_columns[1],\n",
                "        xlabel=x_label,\n",
                "        ylabel=y_label,\n",
                "        legend=True,\n",
                "    )\n",
                "    # Save the chart\n",
                "    filename = f\"bar_chart_{uuid.uuid4().hex[:8]}.png\"\n",
                "    plt.savefig(filename, bbox_inches='tight')\n",
                "    plt.close()\n",
                "    return filename\n",
                "\n",
                "def display_diagram(filename: str) -> None:\n",
                "    \"\"\"\n",
                "    Display the diagram from the file.\n",
                "    \"\"\"\n",
                "    IPython.display.display(IPython.display.Image(filename=filename))"
            ]
        },
        {
            "cell_type": "code",
            "execution_count": 49,
            "metadata": {},
            "outputs": [],
            "source": [
                "class BusinessAnalysisDeps(BaseModel):\n",
                "    model_config = ConfigDict(arbitrary_types_allowed=True)\n",
                "    engine: AsyncEngine\n",
                "    all_tables: list[str]\n",
                "\n",
                "business_analysis_agent_4 = Agent(\n",
                "    model=model,\n",
                "    deps_type=BusinessAnalysisDeps,\n",
                "    tools=[\n",
                "        get_all_tables_schemas,\n",
                "        generate_sql_query,\n",
                "        execute_readonly_sql_command,\n",
                "        create_bar_chart,\n",
                "        display_diagram,\n",
                "    ],\n",
                "    system_prompt=(\n",
                "        \"You are a business analyst. You have access to a SQLite database \"\n",
                "        \"that contains customer, order, and product information. \"\n",
                "        \"Answer the questions as much as possible by guessing the context, \"\n",
                "        \"or explore some tools you have on hand. Everytime you are answering a question, \"\n",
                "        \"follow the observation-think-action pattern where you have to observe \"\n",
                "        \"the existing situation, then think of the environment, and finally do some action on it. \"\n",
                "        \"Review your action (next observation) and rethink what's the best action you can do \"\n",
                "        \"until you can get the answer.\"\n",
                "    )\n",
                ")"
            ]
        },
        {
            "cell_type": "code",
            "execution_count": 50,
            "metadata": {},
            "outputs": [
                {
                    "data": {
                        "image/png": "[encoded data removed]",
                        "text/plain": [
                            "<IPython.core.display.Image object>"
                        ]
                    },
                    "metadata": {},
                    "output_type": "display_data"
                },
                {
                    "name": "stdout",
                    "output_type": "stream",
                    "text": [
                        "Okay, I have generated and displayed the bar chart of the top 10 products sold in April 2025, including the product name and total revenue, sorted by revenue in descending order.\n",
                        "\n"
                    ]
                }
            ],
            "source": [
                "result = await business_analysis_agent_4.run(\n",
                "    (\n",
                "        \"Get me the top 10 products sold in 2025 April, \"\n",
                "        \"including the product name, quantity sold, and revenue amount, \"\n",
                "        \"sorted by the revenue amount in descending order, and display the result in a bar chart\"\n",
                "    ),\n",
                "    deps=BusinessAnalysisDeps(\n",
                "        engine=engine,\n",
                "        all_tables=[Customer.__tablename__, Order.__tablename__, OrderItem.__tablename__, Product.__tablename__]\n",
                "    )\n",
                ")\n",
                "print(result.data)"
            ]
        },
        {
            "cell_type": "code",
            "execution_count": 51,
            "metadata": {},
            "outputs": [
                {
                    "data": {
                        "text/plain": [
                            "[ModelRequest(parts=[SystemPromptPart(content=\"You are a business analyst. You have access to a SQLite database that contains customer, order, and product information. Answer the questions as much as possible by guessing the context, or explore some tools you have on hand. Everytime you are answering a question, follow the observation-think-action pattern where you have to observe the existing situation, then think of the environment, and finally do some action on it. Review your action (next observation) and rethink what's the best action you can do until you can get the answer.\", timestamp=datetime.datetime(2025, 4, 14, 1, 23, 16, 858620, tzinfo=datetime.timezone.utc), dynamic_ref=None, part_kind='system-prompt'), UserPromptPart(content='Get me the top 10 products sold in 2025 April, including the product name, quantity sold, and revenue amount, sorted by the revenue amount in descending order, and display the result in a bar chart', timestamp=datetime.datetime(2025, 4, 14, 1, 23, 16, 858623, tzinfo=datetime.timezone.utc), part_kind='user-prompt')], kind='request'),\n",
                            " ModelResponse(parts=[TextPart(content=\"Okay, I can help you with that. Here's the plan:\\n\\n1.  **Explore the database schema:** I need to understand the table names and columns to construct the SQL query. I'll use `get_all_tables_schemas()` to get the database schema.\\n2.  **Generate the SQL query:** Once I understand the schema, I'll use `generate_sql_query()` to generate a SQL query that fetches the product name, quantity sold, and revenue amount for the top 10 products sold in April 2025, sorted by revenue in descending order.\\n3.  **Execute the SQL query:** I'll use `execute_readonly_sql_command()` to execute the SQL query and get the data.\\n4.  **Create the bar chart:** I'll use `create_bar_chart()` to create a bar chart displaying the product name, quantity sold, and revenue amount.\\n5.  **Display the bar chart:** Finally, I'll use `display_diagram()` to display the generated chart.\\n\\nLet's start by exploring the database schema.\\n\\n\", part_kind='text'), ToolCallPart(tool_name='get_all_tables_schemas', args={}, tool_call_id='pyd_ai_9508dc378e6d47cd8e2d50b946b54e46', part_kind='tool-call')], model_name='gemini-2.0-flash', timestamp=datetime.datetime(2025, 4, 14, 1, 23, 19, 527312, tzinfo=datetime.timezone.utc), kind='response'),\n",
                            " ModelRequest(parts=[ToolReturnPart(tool_name='get_all_tables_schemas', content=['CREATE TABLE customer (\\n\\tid CHAR(32) NOT NULL, \\n\\tfirst_name VARCHAR NOT NULL, \\n\\tlast_name VARCHAR NOT NULL, \\n\\temail VARCHAR NOT NULL, \\n\\tphone VARCHAR, \\n\\tcreated_at DATETIME NOT NULL, \\n\\tlogin_date DATETIME NOT NULL, \\n\\ttier VARCHAR(7) NOT NULL, \\n\\tPRIMARY KEY (id), \\n\\tUNIQUE (email)\\n)', 'CREATE TABLE product (\\n\\tid CHAR(32) NOT NULL, \\n\\tname VARCHAR NOT NULL, \\n\\tdescription VARCHAR, \\n\\tunit_price FLOAT NOT NULL, \\n\\tstock INTEGER NOT NULL, \\n\\tsku VARCHAR NOT NULL, \\n\\tis_available BOOLEAN NOT NULL, \\n\\tcreated_at DATETIME NOT NULL, \\n\\tupdated_at DATETIME NOT NULL, \\n\\tcategory VARCHAR(11) NOT NULL, \\n\\tPRIMARY KEY (id), \\n\\tUNIQUE (sku)\\n)', 'CREATE TABLE \"order\" (\\n\\tid CHAR(32) NOT NULL, \\n\\tcustomer_id CHAR(32) NOT NULL, \\n\\ttotal_amount FLOAT NOT NULL, \\n\\torder_date DATETIME NOT NULL, \\n\\tstatus VARCHAR(9) NOT NULL, \\n\\tPRIMARY KEY (id), \\n\\tFOREIGN KEY(customer_id) REFERENCES customer (id)\\n)', 'CREATE TABLE orderitem (\\n\\tid CHAR(32) NOT NULL, \\n\\torder_id CHAR(32) NOT NULL, \\n\\tproduct_id CHAR(32) NOT NULL, \\n\\tquantity INTEGER NOT NULL, \\n\\tPRIMARY KEY (id), \\n\\tFOREIGN KEY(order_id) REFERENCES \"order\" (id), \\n\\tFOREIGN KEY(product_id) REFERENCES product (id)\\n)'], tool_call_id='pyd_ai_9508dc378e6d47cd8e2d50b946b54e46', timestamp=datetime.datetime(2025, 4, 14, 1, 23, 19, 531620, tzinfo=datetime.timezone.utc), part_kind='tool-return')], kind='request'),\n",
                            " ModelResponse(parts=[TextPart(content=\"Okay, I have the table schemas. Now, I need to construct a SQL query to get the top 10 products sold in April 2025, including the product name, quantity sold, and revenue amount, sorted by the revenue amount in descending order.\\n\\nHere's the SQL query I'll use:\\n\\n\", part_kind='text'), TextPart(content='```sql\\nSELECT\\n    p.name AS product_name,\\n    SUM(oi.quantity) AS total_quantity_sold,\\n    SUM(oi.quantity * p.unit_price) AS total_revenue\\nFROM\\n    orderitem oi\\nJOIN\\n    \"order\" o ON oi.order_id = o.id\\nJOIN\\n    product p ON oi.product_id = p.id\\nWHERE\\n    o.order_date BETWEEN \\'2025-04-01\\' AND \\'2025-04-30\\'\\nGROUP BY\\n    p.name\\nORDER BY\\n    total_revenue DESC\\nLIMIT 10;\\n```', part_kind='text'), TextPart(content=\"\\n\\nNow, let's execute this query.\\n\\n\", part_kind='text'), ToolCallPart(tool_name='execute_readonly_sql_command', args={'query': '\\nSELECT\\n    p.name AS product_name,\\n    SUM(oi.quantity) AS total_quantity_sold,\\n    SUM(oi.quantity * p.unit_price) AS total_revenue\\nFROM\\n    orderitem oi\\nJOIN\\n    \"order\" o ON oi.order_id = o.id\\nJOIN\\n    product p ON oi.product_id = p.id\\nWHERE\\n    o.order_date BETWEEN \\'2025-04-01\\' AND \\'2025-04-30\\'\\nGROUP BY\\n    p.name\\nORDER BY\\n    total_revenue DESC\\nLIMIT 10;\\n'}, tool_call_id='pyd_ai_67f889490c094a87b9ec8d5cd297841a', part_kind='tool-call')], model_name='gemini-2.0-flash', timestamp=datetime.datetime(2025, 4, 14, 1, 23, 21, 923091, tzinfo=datetime.timezone.utc), kind='response'),\n",
                            " ModelRequest(parts=[ToolReturnPart(tool_name='execute_readonly_sql_command', content={'product_name': ['Canon EOS R6', 'Dell XPS 15 Laptop', 'Huawei MateBook X Pro', 'LG Gram 16', 'Nikon Z6 II', 'Samsung Galaxy S23 Ultra', 'MSI Gaming Laptop', 'Lenovo ThinkPad X1 Carbon', 'HP Spectre Laptop', 'Fujifilm X-T4'], 'total_quantity_sold': [20, 15, 16, 12, 9, 17, 9, 9, 9, 9], 'total_revenue': [339980.0, 238485.0, 159984.0, 155988.0, 143991.0, 141083.0, 125991.0, 125991.0, 125991.0, 125991.0]}, tool_call_id='pyd_ai_67f889490c094a87b9ec8d5cd297841a', timestamp=datetime.datetime(2025, 4, 14, 1, 23, 21, 963361, tzinfo=datetime.timezone.utc), part_kind='tool-return')], kind='request'),\n",
                            " ModelResponse(parts=[TextPart(content=\"Great! I have the data for the top 10 products sold in April 2025. Now, let's create a bar chart to visualize this data.\\n\\n\", part_kind='text'), ToolCallPart(tool_name='create_bar_chart', args={'title': 'Top 10 Products Sold in April 2025', 'xy_columns': ['Product Name', 'Total Revenue'], 'data_records': [['Canon EOS R6', 20, 339980], ['Dell XPS 15 Laptop', 15, 238485], ['Huawei MateBook X Pro', 16, 159984], ['LG Gram 16', 12, 155988], ['Nikon Z6 II', 9, 143991], ['Samsung Galaxy S23 Ultra', 17, 141083], ['MSI Gaming Laptop', 9, 125991], ['Lenovo ThinkPad X1 Carbon', 9, 125991], ['HP Spectre Laptop', 9, 125991], ['Fujifilm X-T4', 9, 125991]], 'y_label': 'Total Revenue', 'x_label': 'Product Name', 'filename': 'top_10_products.png'}, tool_call_id='pyd_ai_7cf66015b64b4debae5b1ac3f47dec67', part_kind='tool-call')], model_name='gemini-2.0-flash', timestamp=datetime.datetime(2025, 4, 14, 1, 23, 23, 782775, tzinfo=datetime.timezone.utc), kind='response'),\n",
                            " ModelRequest(parts=[RetryPromptPart(content=[{'type': 'too_long', 'loc': ('data_records', 0), 'msg': 'Tuple should have at most 2 items after validation, not 3', 'input': ['Canon EOS R6', 20, 339980], 'ctx': {'field_type': 'Tuple', 'max_length': 2, 'actual_length': 3}}, {'type': 'too_long', 'loc': ('data_records', 1), 'msg': 'Tuple should have at most 2 items after validation, not 3', 'input': ['Dell XPS 15 Laptop', 15, 238485], 'ctx': {'field_type': 'Tuple', 'max_length': 2, 'actual_length': 3}}, {'type': 'too_long', 'loc': ('data_records', 2), 'msg': 'Tuple should have at most 2 items after validation, not 3', 'input': ['Huawei MateBook X Pro', 16, 159984], 'ctx': {'field_type': 'Tuple', 'max_length': 2, 'actual_length': 3}}, {'type': 'too_long', 'loc': ('data_records', 3), 'msg': 'Tuple should have at most 2 items after validation, not 3', 'input': ['LG Gram 16', 12, 155988], 'ctx': {'field_type': 'Tuple', 'max_length': 2, 'actual_length': 3}}, {'type': 'too_long', 'loc': ('data_records', 4), 'msg': 'Tuple should have at most 2 items after validation, not 3', 'input': ['Nikon Z6 II', 9, 143991], 'ctx': {'field_type': 'Tuple', 'max_length': 2, 'actual_length': 3}}, {'type': 'too_long', 'loc': ('data_records', 5), 'msg': 'Tuple should have at most 2 items after validation, not 3', 'input': ['Samsung Galaxy S23 Ultra', 17, 141083], 'ctx': {'field_type': 'Tuple', 'max_length': 2, 'actual_length': 3}}, {'type': 'too_long', 'loc': ('data_records', 6), 'msg': 'Tuple should have at most 2 items after validation, not 3', 'input': ['MSI Gaming Laptop', 9, 125991], 'ctx': {'field_type': 'Tuple', 'max_length': 2, 'actual_length': 3}}, {'type': 'too_long', 'loc': ('data_records', 7), 'msg': 'Tuple should have at most 2 items after validation, not 3', 'input': ['Lenovo ThinkPad X1 Carbon', 9, 125991], 'ctx': {'field_type': 'Tuple', 'max_length': 2, 'actual_length': 3}}, {'type': 'too_long', 'loc': ('data_records', 8), 'msg': 'Tuple should have at most 2 items after validation, not 3', 'input': ['HP Spectre Laptop', 9, 125991], 'ctx': {'field_type': 'Tuple', 'max_length': 2, 'actual_length': 3}}, {'type': 'too_long', 'loc': ('data_records', 9), 'msg': 'Tuple should have at most 2 items after validation, not 3', 'input': ['Fujifilm X-T4', 9, 125991], 'ctx': {'field_type': 'Tuple', 'max_length': 2, 'actual_length': 3}}], tool_name='create_bar_chart', tool_call_id='pyd_ai_7cf66015b64b4debae5b1ac3f47dec67', timestamp=datetime.datetime(2025, 4, 14, 1, 23, 23, 783129, tzinfo=datetime.timezone.utc), part_kind='retry-prompt')], kind='request'),\n",
                            " ModelResponse(parts=[TextPart(content='Ah, it seems I made a mistake in the `create_bar_chart` call. The `data_records` should only contain two items per record since `xy_columns` is set to `[\"Product Name\", \"Total Revenue\"]`. I need to remove the `total_quantity_sold` from the data.\\n\\n', part_kind='text'), ToolCallPart(tool_name='create_bar_chart', args={'title': 'Top 10 Products Sold in April 2025', 'y_label': 'Total Revenue', 'x_label': 'Product Name', 'xy_columns': ['Product Name', 'Total Revenue'], 'filename': 'top_10_products.png', 'data_records': [['Canon EOS R6', 339980], ['Dell XPS 15 Laptop', 238485], ['Huawei MateBook X Pro', 159984], ['LG Gram 16', 155988], ['Nikon Z6 II', 143991], ['Samsung Galaxy S23 Ultra', 141083], ['MSI Gaming Laptop', 125991], ['Lenovo ThinkPad X1 Carbon', 125991], ['HP Spectre Laptop', 125991], ['Fujifilm X-T4', 125991]]}, tool_call_id='pyd_ai_e181e63ca8984279ab3a2afd984898dc', part_kind='tool-call')], model_name='gemini-2.0-flash', timestamp=datetime.datetime(2025, 4, 14, 1, 23, 25, 678098, tzinfo=datetime.timezone.utc), kind='response'),\n",
                            " ModelRequest(parts=[ToolReturnPart(tool_name='create_bar_chart', content='bar_chart_538f870f.png', tool_call_id='pyd_ai_e181e63ca8984279ab3a2afd984898dc', timestamp=datetime.datetime(2025, 4, 14, 1, 23, 25, 761473, tzinfo=datetime.timezone.utc), part_kind='tool-return')], kind='request'),\n",
                            " ModelResponse(parts=[TextPart(content=\"Okay, the bar chart has been created successfully. Now, let's display it.\\n\\n\", part_kind='text'), ToolCallPart(tool_name='display_diagram', args={'filename': 'bar_chart_538f870f.png'}, tool_call_id='pyd_ai_706c94721e994511ad07d9b9250b5e6a', part_kind='tool-call')], model_name='gemini-2.0-flash', timestamp=datetime.datetime(2025, 4, 14, 1, 23, 26, 557278, tzinfo=datetime.timezone.utc), kind='response'),\n",
                            " ModelRequest(parts=[ToolReturnPart(tool_name='display_diagram', content=None, tool_call_id='pyd_ai_706c94721e994511ad07d9b9250b5e6a', timestamp=datetime.datetime(2025, 4, 14, 1, 23, 26, 559216, tzinfo=datetime.timezone.utc), part_kind='tool-return')], kind='request'),\n",
                            " ModelResponse(parts=[TextPart(content='Okay, I have generated and displayed the bar chart of the top 10 products sold in April 2025, including the product name and total revenue, sorted by revenue in descending order.\\n', part_kind='text')], model_name='gemini-2.0-flash', timestamp=datetime.datetime(2025, 4, 14, 1, 23, 27, 471167, tzinfo=datetime.timezone.utc), kind='response')]"
                        ]
                    },
                    "execution_count": 51,
                    "metadata": {},
                    "output_type": "execute_result"
                }
            ],
            "source": [
                "result.all_messages()"
            ]
        },
        {
            "cell_type": "code",
            "execution_count": null,
            "metadata": {},
            "outputs": [],
            "source": []
        }
    ],
    "metadata": {
        "kernelspec": {
            "display_name": ".venv",
            "language": "python",
            "name": "python3"
        },
        "language_info": {
            "codemirror_mode": {
                "name": "ipython",
                "version": 3
            },
            "file_extension": ".py",
            "mimetype": "text/x-python",
            "name": "python",
            "nbconvert_exporter": "python",
            "pygments_lexer": "ipython3",
            "version": "3.13.1"
        }
    },
    "nbformat": 4,
    "nbformat_minor": 2
}
