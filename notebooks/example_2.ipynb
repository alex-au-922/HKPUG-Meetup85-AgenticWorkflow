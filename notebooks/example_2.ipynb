{
 "cells": [
  {
   "cell_type": "markdown",
   "metadata": {},
   "source": [
    "# Agentic Workflow Example #2 -- Single Agent & Multiple Tools Use"
   ]
  },
  {
   "cell_type": "markdown",
   "metadata": {},
   "source": [
    "So far we have seen how to use the Agent to interact with a single tool. However, in many cases, **a single tool is not enough to accomplish a task**.\n",
    "\n",
    "We have been creating **very specific tools** for the Agent to use. In this example, we will demonstrate how agents can interact with **multiple tools** in a single workflow."
   ]
  },
  {
   "cell_type": "code",
   "execution_count": null,
   "metadata": {},
   "outputs": [],
   "source": [
    "import sys\n",
    "\n",
    "sys.path.append(\"..\")\n",
    "\n",
    "import nest_asyncio\n",
    "\n",
    "nest_asyncio.apply()\n",
    "\n",
    "from src.schema import (\n",
    "    Customer,\n",
    "    Order,\n",
    "    OrderItem,\n",
    "    Product\n",
    ")\n",
    "from pathlib import Path\n",
    "import csv\n",
    "from IPython.display import display, SVG, Markdown\n",
    "\n",
    "API_KEY = '<enter your API key>'"
   ]
  },
  {
   "cell_type": "markdown",
   "metadata": {},
   "source": [
    "## Data Import\n",
    "\n",
    "The company has some **CSV files** regarding the `customers`, `products`, `orders` nad `order_items` tables. You have been given the following files:\n",
    "- `src/assets/customers.csv`\n",
    "\n",
    "- `src/assets/products.csv`\n",
    "\n",
    "- `src/assets/orders.csv`\n",
    "\n",
    "- `src/assets/order_items.csv`"
   ]
  },
  {
   "cell_type": "code",
   "execution_count": null,
   "metadata": {},
   "outputs": [],
   "source": [
    "from src.utils import init_db\n",
    "\n",
    "BASE_ASSETS_PATH = Path(\"..\") / \"src\" / \"assets\"\n",
    "\n",
    "with (BASE_ASSETS_PATH / \"customers.csv\").open(\"r\") as f:\n",
    "    customers = [\n",
    "        Customer.model_validate(row)\n",
    "        for row in csv.DictReader(f)\n",
    "    ]\n",
    "\n",
    "with (BASE_ASSETS_PATH / \"products.csv\").open(\"r\") as f:\n",
    "    products = [\n",
    "        Product.model_validate(row)\n",
    "        for row in csv.DictReader(f)\n",
    "    ]\n",
    "\n",
    "with (BASE_ASSETS_PATH / \"orders.csv\").open(\"r\") as f:\n",
    "    orders = [\n",
    "        Order.model_validate(row)\n",
    "        for row in csv.DictReader(f)\n",
    "    ]\n",
    "\n",
    "with (BASE_ASSETS_PATH / \"order_items.csv\").open(\"r\") as f:\n",
    "    order_items = [\n",
    "        OrderItem.model_validate(row)\n",
    "        for row in csv.DictReader(f)\n",
    "    ]\n",
    "\n",
    "await init_db(\n",
    "    BASE_ASSETS_PATH / \"database.db\",\n",
    "    *customers,\n",
    "    *products,\n",
    "    *orders,\n",
    "    *order_items\n",
    ")"
   ]
  },
  {
   "cell_type": "markdown",
   "metadata": {},
   "source": [
    "### Entity-Relationship Diagram (ERD)"
   ]
  },
  {
   "cell_type": "code",
   "execution_count": null,
   "metadata": {},
   "outputs": [],
   "source": [
    "display(SVG(filename='pictures/er-diagram.svg'))"
   ]
  },
  {
   "cell_type": "markdown",
   "metadata": {},
   "source": [
    "## Task\n",
    "\n",
    "Your management team is quite satisfied with your work on the internal QA. Yet they want the bot to do more on the **customers** and **sales data**.\n",
    "\n",
    "As the management team doesn't have high expectations, they are currently interested in the following questions:\n",
    "- `Get me the shopping categories proportions of user Queenie Sit, including the category name and the quantity of each category`\n",
    "\n",
    "- `Get me the revenue of orders from user Queenie Sit`"
   ]
  },
  {
   "cell_type": "code",
   "execution_count": null,
   "metadata": {},
   "outputs": [],
   "source": [
    "from pydantic import BaseModel, ConfigDict\n",
    "from pydantic_ai import Agent, RunContext\n",
    "from src.utils import session_connect\n",
    "from sqlalchemy.ext.asyncio import AsyncEngine, create_async_engine\n",
    "from sqlmodel import select\n",
    "import sqlalchemy as sa\n",
    "from pydantic_ai.models.openai import OpenAIModel\n",
    "from pydantic_ai.providers.openai import OpenAIProvider\n",
    "import uuid"
   ]
  },
  {
   "cell_type": "code",
   "execution_count": null,
   "metadata": {},
   "outputs": [],
   "source": [
    "# Don't change the following!\n",
    "\n",
    "class BusinessAnalysisDeps(BaseModel):\n",
    "    \"\"\"Dependencies for the BusinessAnalysis agent.\"\"\"\n",
    "    model_config = ConfigDict(arbitrary_types_allowed=True)\n",
    "    \n",
    "    # Object-relational mapping engine that can pass to the `session_connect` function\n",
    "    engine: AsyncEngine"
   ]
  },
  {
   "cell_type": "markdown",
   "metadata": {},
   "source": [
    "## Analysis\n",
    "\n",
    "When creating complicated workflows, it is important to **analyze the execution flow** of the tasks.\n",
    "\n",
    "For the first question of `Get me the shopping categories proportions of user Queenie Sit, including the category name and the quantity of each category`, we need to:\n",
    "- Get the user ID of `Queenie Sit` from the `customers` table\n",
    "- Get the order IDs of `Queenie Sit` from the `orders` table\n",
    "- Get the **sum of ordered quantity** of each category from the `order_items` table for every order ID\n",
    "\n",
    "<br>\n",
    "\n",
    "For the second question of `Get me the revenue of orders from user Queenie Sit`, we need to:\n",
    "- Get the user ID of `Queenie Sit` from the `customers` table\n",
    "- Get the order IDs of `Queenie Sit` from the `orders` table\n",
    "- Get the **sum of revenue** of each order from the `order_items` table for every order ID\n",
    "\n",
    "<br>\n",
    "\n",
    "We can see that these two questions all have the **same steps** of:\n",
    "- Getting the user ID of a particular user from the `customers` table\n",
    "- Getting the order IDs of a particular user from the `orders` table"
   ]
  },
  {
   "cell_type": "code",
   "execution_count": null,
   "metadata": {},
   "outputs": [],
   "source": [
    "# Don't change the following!\n",
    "\n",
    "# You have seen this in example 1!\n",
    "async def get_customer_info_from_name(\n",
    "    ctx: RunContext[BusinessAnalysisDeps], first_name: str, last_name: str\n",
    ") -> Customer | None:\n",
    "    \"\"\"\n",
    "    Get existing customer info from first name and last name.\n",
    "    \"\"\"\n",
    "    async with session_connect(ctx.deps.engine) as session:\n",
    "        sql = select(Customer).where(\n",
    "            sa.func.lower(Customer.first_name) == first_name.lower(),\n",
    "            sa.func.lower(Customer.last_name) == last_name.lower(),\n",
    "        )\n",
    "        result = await session.exec(sql)\n",
    "        customer = result.one_or_none()\n",
    "        return customer"
   ]
  },
  {
   "cell_type": "code",
   "execution_count": null,
   "metadata": {},
   "outputs": [],
   "source": [
    "# Please fill in the following function\n",
    "\n",
    "async def get_customer_all_orders(\n",
    "    ctx: RunContext[BusinessAnalysisDeps], customer_id: uuid.UUID\n",
    ") -> list[uuid.UUID]:\n",
    "    \"\"\"\n",
    "    Get all order ids of a customer.\n",
    "    \"\"\"\n",
    "    async with session_connect(ctx.deps.engine) as session:\n",
    "        # what should be filled in here?\n",
    "        sql = select(Order.id).where(\n",
    "            Order.customer_id == customer_id,\n",
    "        )\n",
    "        results = await session.exec(sql)\n",
    "        return results.all()"
   ]
  },
  {
   "cell_type": "markdown",
   "metadata": {},
   "source": [
    "#### Hint:\n",
    "\n",
    "The `get_customer_all_orders` should read like the following SQL:\n",
    "\n",
    "```sql\n",
    "SELECT o\n",
    "FROM orders o\n",
    "WHERE o.customer_id = <customer_id>\n",
    "```"
   ]
  },
  {
   "cell_type": "code",
   "execution_count": null,
   "metadata": {},
   "outputs": [],
   "source": [
    "# Please fill in the following function\n",
    "\n",
    "async def get_orders_sales_amount(\n",
    "    ctx: RunContext[BusinessAnalysisDeps], *order_id: uuid.UUID\n",
    ") -> float:\n",
    "    \"\"\"\n",
    "    Get the sum of sales amount of all orders.\n",
    "    \"\"\"\n",
    "    async with session_connect(ctx.deps.engine) as session:\n",
    "        # what should be filled in here?\n",
    "        sql = (\n",
    "            select(sa.func.sum(OrderItem.quantity * Product.unit_price))\n",
    "            .select_from(Order)\n",
    "            .join(OrderItem, OrderItem.order_id == Order.id)\n",
    "            .join(Product, OrderItem.product_id == Product.id)\n",
    "            .where(Order.id.in_(order_id))\n",
    "        )\n",
    "        results = await session.exec(sql)\n",
    "        return results.one_or_none() or 0.0"
   ]
  },
  {
   "cell_type": "markdown",
   "metadata": {},
   "source": [
    "#### Hint:\n",
    "\n",
    "The `get_orders_sales_amount` should read like the following SQL:\n",
    "\n",
    "```sql\n",
    "SELECT SUM(oi.quantity * p.unit_price) AS revenue\n",
    "FROM order_items oi\n",
    "JOIN products p ON oi.product_id = p.id\n",
    "JOIN orders o ON oi.order_id = o.id\n",
    "WHERE oi.order_id IN (<order_ids>)\n",
    "```"
   ]
  },
  {
   "cell_type": "code",
   "execution_count": null,
   "metadata": {},
   "outputs": [],
   "source": [
    "# Don't change the following!\n",
    "\n",
    "async def get_orders_categories(\n",
    "    ctx: RunContext[BusinessAnalysisDeps], *order_id: uuid.UUID\n",
    ") -> list[dict[str, str]]:\n",
    "    \"\"\"\n",
    "    Get all ordered items categories purchased by a customer, including the total quantity of each category groupped.\n",
    "    \"\"\"\n",
    "    async with session_connect(ctx.deps.engine) as session:\n",
    "        sql = (\n",
    "            select(Product.category, sa.func.sum(OrderItem.quantity).label(\"quantity\"))\n",
    "            .select_from(Order)\n",
    "            .join(OrderItem, OrderItem.order_id == Order.id)\n",
    "            .join(Product, OrderItem.product_id == Product.id)\n",
    "            .where(Order.id.in_(order_id))\n",
    "            .group_by(Product.category)\n",
    "            .order_by(sa.func.sum(OrderItem.quantity).desc())\n",
    "        )\n",
    "        results = await session.exec(sql)\n",
    "        categories = results.all()\n",
    "        return [\n",
    "            {\n",
    "                \"category\": category,\n",
    "                \"quantity\": quantity,\n",
    "            }\n",
    "            for category, quantity in categories\n",
    "        ]"
   ]
  },
  {
   "cell_type": "code",
   "execution_count": null,
   "metadata": {},
   "outputs": [],
   "source": [
    "model = OpenAIModel(\n",
    "    'accounts/fireworks/models/deepseek-v3',  # model library available at https://fireworks.ai/models\n",
    "    provider=OpenAIProvider(\n",
    "        base_url='https://api.fireworks.ai/inference/v1',\n",
    "        api_key=API_KEY,\n",
    "    ),\n",
    ")\n",
    "\n",
    "business_analysis_agent_2 = Agent(\n",
    "    model=model,\n",
    "    deps_type=BusinessAnalysisDeps,\n",
    "    tools=[\n",
    "        get_customer_info_from_name,\n",
    "        get_customer_all_orders,\n",
    "        get_orders_sales_amount,\n",
    "        get_orders_categories\n",
    "    ],\n",
    "    system_prompt=(\n",
    "        \"You are a business analyst. You have access to a SQLite database \"\n",
    "        \"that contains customer, order, and product information. \"\n",
    "        \"You can use the tools provided to query the database and \"\n",
    "        \"answer questions about the data.\"\n",
    "        \"Follow the instructions carefully and provide the most accurate \"\n",
    "        \"and relevant information possible. Output the result in markdown format.\"\n",
    "    )\n",
    ")\n",
    "\n",
    "engine = create_async_engine(\"sqlite+aiosqlite:///../src/assets/database.db\")"
   ]
  },
  {
   "cell_type": "code",
   "execution_count": null,
   "metadata": {},
   "outputs": [],
   "source": [
    "# Don't change the following!\n",
    "\n",
    "result = await business_analysis_agent_2.run(\n",
    "    \"Get me the shopping categories proportions of user Queenie Sit, including the category name and the quantity of each category\",\n",
    "    deps=BusinessAnalysisDeps(engine=engine)\n",
    ")\n",
    "display(Markdown(result.output))"
   ]
  },
  {
   "cell_type": "code",
   "execution_count": null,
   "metadata": {},
   "outputs": [],
   "source": [
    "# Don't change the following!\n",
    "\n",
    "result = await business_analysis_agent_2.run(\n",
    "    \"Get me the revenue of orders from user Queenie Sit\",\n",
    "    deps=BusinessAnalysisDeps(engine=engine)\n",
    ")\n",
    "display(Markdown(result.output))"
   ]
  },
  {
   "cell_type": "markdown",
   "metadata": {},
   "source": [
    "## How does the agent interacts with the tools?\n",
    "\n",
    "For every `run` method, the agent will log all the steps it takes to accomplish the task by the `.all_messages()` method."
   ]
  },
  {
   "cell_type": "code",
   "execution_count": null,
   "metadata": {},
   "outputs": [],
   "source": [
    "# Don't change the following!\n",
    "\n",
    "import pprint\n",
    "\n",
    "pprint.pprint(result.all_messages())"
   ]
  },
  {
   "cell_type": "code",
   "execution_count": null,
   "metadata": {},
   "outputs": [],
   "source": [
    "display(SVG(filename='pictures/agent-multiple-tools-interaction.svg'))"
   ]
  }
 ],
 "metadata": {
  "kernelspec": {
   "display_name": ".venv",
   "language": "python",
   "name": "python3"
  },
  "language_info": {
   "codemirror_mode": {
    "name": "ipython",
    "version": 3
   },
   "file_extension": ".py",
   "mimetype": "text/x-python",
   "name": "python",
   "nbconvert_exporter": "python",
   "pygments_lexer": "ipython3",
   "version": "3.11.10"
  }
 },
 "nbformat": 4,
 "nbformat_minor": 2
}
